{
  "nbformat": 4,
  "nbformat_minor": 0,
  "metadata": {
    "colab": {
      "name": "stock1.ipynb",
      "version": "0.3.2",
      "provenance": [],
      "collapsed_sections": [],
      "include_colab_link": true
    },
    "kernelspec": {
      "name": "python3",
      "display_name": "Python 3"
    }
  },
  "cells": [
    {
      "cell_type": "markdown",
      "metadata": {
        "id": "view-in-github",
        "colab_type": "text"
      },
      "source": [
        "<a href=\"https://colab.research.google.com/github/mechamrit/StockAnalysis/blob/master/stock1.ipynb\" target=\"_parent\"><img src=\"https://colab.research.google.com/assets/colab-badge.svg\" alt=\"Open In Colab\"/></a>"
      ]
    },
    {
      "cell_type": "markdown",
      "metadata": {
        "id": "Fvko1I3PrOr-",
        "colab_type": "text"
      },
      "source": [
        "# Module 1"
      ]
    },
    {
      "cell_type": "markdown",
      "metadata": {
        "id": "tkpcsNyyrSYm",
        "colab_type": "text"
      },
      "source": [
        "[Using Pandas web Data Reader](https://pandas-datareader.readthedocs.io/en/latest/?source=post_page---------------------------) for getting the data from the Yahoo Finance. \n",
        "<br>For this we will use 1 Year of Google Data\n",
        "<br> Importing Datetime Library to Work with the dates"
      ]
    },
    {
      "cell_type": "code",
      "metadata": {
        "id": "YDHLK8eZrQmV",
        "colab_type": "code",
        "colab": {
          "base_uri": "https://localhost:8080/",
          "height": 175
        },
        "outputId": "25ebe013-7d90-463a-dabd-0b0810a2c4fe"
      },
      "source": [
        "## Import the essential Libraries\n",
        "import pandas as pd\n",
        "## https://pandas-datareader.readthedocs.io/en/latest/?source=post_page---------------------------b\n",
        "import pandas_datareader.data as pdr\n",
        "from datetime import datetime, timedelta \n",
        "import numpy as np\n",
        "\n",
        "##datetime(year, month, day[, hour[, minute[, second[, microsecond[,tzinfo]]]]])\n",
        "start = datetime(2018 , 7 ,1)\n",
        "end = datetime(2019, 7 , 1)\n",
        "\n",
        "## Importing the Google finance\n",
        "df1 = pdr.DataReader(\"GOOG\", 'yahoo', start, end)\n",
        "df1.tail(3)"
      ],
      "execution_count": 1,
      "outputs": [
        {
          "output_type": "execute_result",
          "data": {
            "text/html": [
              "<div>\n",
              "<style scoped>\n",
              "    .dataframe tbody tr th:only-of-type {\n",
              "        vertical-align: middle;\n",
              "    }\n",
              "\n",
              "    .dataframe tbody tr th {\n",
              "        vertical-align: top;\n",
              "    }\n",
              "\n",
              "    .dataframe thead th {\n",
              "        text-align: right;\n",
              "    }\n",
              "</style>\n",
              "<table border=\"1\" class=\"dataframe\">\n",
              "  <thead>\n",
              "    <tr style=\"text-align: right;\">\n",
              "      <th></th>\n",
              "      <th>High</th>\n",
              "      <th>Low</th>\n",
              "      <th>Open</th>\n",
              "      <th>Close</th>\n",
              "      <th>Volume</th>\n",
              "      <th>Adj Close</th>\n",
              "    </tr>\n",
              "    <tr>\n",
              "      <th>Date</th>\n",
              "      <th></th>\n",
              "      <th></th>\n",
              "      <th></th>\n",
              "      <th></th>\n",
              "      <th></th>\n",
              "      <th></th>\n",
              "    </tr>\n",
              "  </thead>\n",
              "  <tbody>\n",
              "    <tr>\n",
              "      <th>2019-06-27</th>\n",
              "      <td>1087.099976</td>\n",
              "      <td>1075.290039</td>\n",
              "      <td>1084.000000</td>\n",
              "      <td>1076.010010</td>\n",
              "      <td>1004300</td>\n",
              "      <td>1076.010010</td>\n",
              "    </tr>\n",
              "    <tr>\n",
              "      <th>2019-06-28</th>\n",
              "      <td>1081.000000</td>\n",
              "      <td>1073.369995</td>\n",
              "      <td>1076.390015</td>\n",
              "      <td>1080.910034</td>\n",
              "      <td>1693200</td>\n",
              "      <td>1080.910034</td>\n",
              "    </tr>\n",
              "    <tr>\n",
              "      <th>2019-07-01</th>\n",
              "      <td>1107.579956</td>\n",
              "      <td>1093.703003</td>\n",
              "      <td>1098.000000</td>\n",
              "      <td>1097.949951</td>\n",
              "      <td>1436300</td>\n",
              "      <td>1097.949951</td>\n",
              "    </tr>\n",
              "  </tbody>\n",
              "</table>\n",
              "</div>"
            ],
            "text/plain": [
              "                   High          Low  ...   Volume    Adj Close\n",
              "Date                                  ...                      \n",
              "2019-06-27  1087.099976  1075.290039  ...  1004300  1076.010010\n",
              "2019-06-28  1081.000000  1073.369995  ...  1693200  1080.910034\n",
              "2019-07-01  1107.579956  1093.703003  ...  1436300  1097.949951\n",
              "\n",
              "[3 rows x 6 columns]"
            ]
          },
          "metadata": {
            "tags": []
          },
          "execution_count": 1
        }
      ]
    },
    {
      "cell_type": "markdown",
      "metadata": {
        "id": "FQh5HCh_rk1w",
        "colab_type": "text"
      },
      "source": [
        "## Dropping the rows with Null Values(in Caif present)\n",
        "## inplace _True will change  the Value in actual data Frame\n",
        "df1.dropna(inplace=True)"
      ]
    },
    {
      "cell_type": "markdown",
      "metadata": {
        "id": "AUf_pwJXr03E",
        "colab_type": "text"
      },
      "source": [
        "2.Let us calculate the maximum, minimum and mean price for the last 90 days. We will use close price."
      ]
    },
    {
      "cell_type": "code",
      "metadata": {
        "id": "9HqiOtOIrfmQ",
        "colab_type": "code",
        "colab": {
          "base_uri": "https://localhost:8080/",
          "height": 69
        },
        "outputId": "86c2b091-ad91-41a5-f9c8-d7432d48b9d1"
      },
      "source": [
        "## We will Calculate the max , min , and mean with inbuilt functions\n",
        "\n",
        "date_90 = end - timedelta(90)\n",
        "new_db = df1[date_90 : end]\n",
        "\n",
        "print('Max close Price', new_db.Close.max())\n",
        "print('Min close Price', new_db.Close.min())\n",
        "print('Mean close Price', new_db.Close.mean())"
      ],
      "execution_count": 2,
      "outputs": [
        {
          "output_type": "stream",
          "text": [
            "Max close Price 1287.5799560546875\n",
            "Min close Price 1036.22998046875\n",
            "Mean close Price 1152.2779347253224\n"
          ],
          "name": "stdout"
        }
      ]
    },
    {
      "cell_type": "markdown",
      "metadata": {
        "id": "O7I5WbC4r-9-",
        "colab_type": "text"
      },
      "source": [
        "3. Now we will calculate monthwise [VWAP](https://school.stockcharts.com/doku.php?id=technical_indicators:vwap_intraday)(Volume Weighted Average Price ) of the stock. Here we will use Pandas [groupBy()](https://pandas.pydata.org/pandas-docs/stable/reference/api/pandas.DataFrame.groupby.html) statement. Here we are calculating daily vwap."
      ]
    },
    {
      "cell_type": "code",
      "metadata": {
        "id": "gmc066SPr2xN",
        "colab_type": "code",
        "colab": {
          "base_uri": "https://localhost:8080/",
          "height": 519
        },
        "outputId": "dc1e9011-6927-435f-8310-8f8d3697572c"
      },
      "source": [
        "## For group by we will add month and year column \n",
        "\n",
        "## Extracting year and month from the index\n",
        "new_db['Month'] = pd.DatetimeIndex(new_db.index).month\n",
        "new_db['Year'] = pd.DatetimeIndex(new_db.index).year\n",
        "\n",
        "## Calulating VWAP\n",
        "new_db['VWAP'] = (new_db.Close * new_db.Volume).cumsum() / new_db.Volume.cumsum()\n",
        "\n",
        "## Now Grouping The Data\n",
        "new_db1 = new_db.groupby(['Year' , 'Month']).mean()\n",
        "new_db1"
      ],
      "execution_count": 3,
      "outputs": [
        {
          "output_type": "stream",
          "text": [
            "/usr/local/lib/python3.6/dist-packages/ipykernel_launcher.py:1: SettingWithCopyWarning: \n",
            "A value is trying to be set on a copy of a slice from a DataFrame.\n",
            "Try using .loc[row_indexer,col_indexer] = value instead\n",
            "\n",
            "See the caveats in the documentation: http://pandas.pydata.org/pandas-docs/stable/indexing.html#indexing-view-versus-copy\n",
            "  \"\"\"Entry point for launching an IPython kernel.\n",
            "/usr/local/lib/python3.6/dist-packages/ipykernel_launcher.py:2: SettingWithCopyWarning: \n",
            "A value is trying to be set on a copy of a slice from a DataFrame.\n",
            "Try using .loc[row_indexer,col_indexer] = value instead\n",
            "\n",
            "See the caveats in the documentation: http://pandas.pydata.org/pandas-docs/stable/indexing.html#indexing-view-versus-copy\n",
            "  \n",
            "/usr/local/lib/python3.6/dist-packages/ipykernel_launcher.py:5: SettingWithCopyWarning: \n",
            "A value is trying to be set on a copy of a slice from a DataFrame.\n",
            "Try using .loc[row_indexer,col_indexer] = value instead\n",
            "\n",
            "See the caveats in the documentation: http://pandas.pydata.org/pandas-docs/stable/indexing.html#indexing-view-versus-copy\n",
            "  \"\"\"\n"
          ],
          "name": "stderr"
        },
        {
          "output_type": "execute_result",
          "data": {
            "text/html": [
              "<div>\n",
              "<style scoped>\n",
              "    .dataframe tbody tr th:only-of-type {\n",
              "        vertical-align: middle;\n",
              "    }\n",
              "\n",
              "    .dataframe tbody tr th {\n",
              "        vertical-align: top;\n",
              "    }\n",
              "\n",
              "    .dataframe thead th {\n",
              "        text-align: right;\n",
              "    }\n",
              "</style>\n",
              "<table border=\"1\" class=\"dataframe\">\n",
              "  <thead>\n",
              "    <tr style=\"text-align: right;\">\n",
              "      <th></th>\n",
              "      <th></th>\n",
              "      <th>High</th>\n",
              "      <th>Low</th>\n",
              "      <th>Open</th>\n",
              "      <th>Close</th>\n",
              "      <th>Volume</th>\n",
              "      <th>Adj Close</th>\n",
              "      <th>VWAP</th>\n",
              "    </tr>\n",
              "    <tr>\n",
              "      <th>Year</th>\n",
              "      <th>Month</th>\n",
              "      <th></th>\n",
              "      <th></th>\n",
              "      <th></th>\n",
              "      <th></th>\n",
              "      <th></th>\n",
              "      <th></th>\n",
              "      <th></th>\n",
              "    </tr>\n",
              "  </thead>\n",
              "  <tbody>\n",
              "    <tr>\n",
              "      <th rowspan=\"4\" valign=\"top\">2019</th>\n",
              "      <th>4</th>\n",
              "      <td>1231.842645</td>\n",
              "      <td>1218.398999</td>\n",
              "      <td>1225.050494</td>\n",
              "      <td>1227.815997</td>\n",
              "      <td>1.330135e+06</td>\n",
              "      <td>1227.815997</td>\n",
              "      <td>1213.735834</td>\n",
              "    </tr>\n",
              "    <tr>\n",
              "      <th>5</th>\n",
              "      <td>1161.281544</td>\n",
              "      <td>1140.388411</td>\n",
              "      <td>1150.308638</td>\n",
              "      <td>1150.763178</td>\n",
              "      <td>1.514427e+06</td>\n",
              "      <td>1150.763178</td>\n",
              "      <td>1201.037532</td>\n",
              "    </tr>\n",
              "    <tr>\n",
              "      <th>6</th>\n",
              "      <td>1091.008508</td>\n",
              "      <td>1072.817352</td>\n",
              "      <td>1084.027002</td>\n",
              "      <td>1081.122504</td>\n",
              "      <td>1.704840e+06</td>\n",
              "      <td>1081.122504</td>\n",
              "      <td>1154.548145</td>\n",
              "    </tr>\n",
              "    <tr>\n",
              "      <th>7</th>\n",
              "      <td>1107.579956</td>\n",
              "      <td>1093.703003</td>\n",
              "      <td>1098.000000</td>\n",
              "      <td>1097.949951</td>\n",
              "      <td>1.436300e+06</td>\n",
              "      <td>1097.949951</td>\n",
              "      <td>1143.978869</td>\n",
              "    </tr>\n",
              "  </tbody>\n",
              "</table>\n",
              "</div>"
            ],
            "text/plain": [
              "                   High          Low  ...    Adj Close         VWAP\n",
              "Year Month                            ...                          \n",
              "2019 4      1231.842645  1218.398999  ...  1227.815997  1213.735834\n",
              "     5      1161.281544  1140.388411  ...  1150.763178  1201.037532\n",
              "     6      1091.008508  1072.817352  ...  1081.122504  1154.548145\n",
              "     7      1107.579956  1093.703003  ...  1097.949951  1143.978869\n",
              "\n",
              "[4 rows x 7 columns]"
            ]
          },
          "metadata": {
            "tags": []
          },
          "execution_count": 3
        }
      ]
    },
    {
      "cell_type": "markdown",
      "metadata": {
        "id": "npDEmH7nscXM",
        "colab_type": "text"
      },
      "source": [
        "4. Let us write a function to calculate the average price over the last N days of the stock price data where N is a user defined parameter."
      ]
    },
    {
      "cell_type": "code",
      "metadata": {
        "id": "DsSb7_yVsEFA",
        "colab_type": "code",
        "colab": {
          "base_uri": "https://localhost:8080/",
          "height": 34
        },
        "outputId": "6a106fbc-2e10-4e98-d397-7621f9744a2a"
      },
      "source": [
        "def avgPrice(N):\n",
        "    delta = end - timedelta(days=N)\n",
        "    db = df1[delta : end]\n",
        "    print('Average Price is',db.Close.mean())\n",
        "    return;\n",
        "avgPrice(90)"
      ],
      "execution_count": 4,
      "outputs": [
        {
          "output_type": "stream",
          "text": [
            "Average Price is 1152.2779347253224\n"
          ],
          "name": "stdout"
        }
      ]
    },
    {
      "cell_type": "markdown",
      "metadata": {
        "id": "vymMRQ9gsoTA",
        "colab_type": "text"
      },
      "source": [
        "5. Write a second function to calculate the profit/loss percentage over the last N days."
      ]
    },
    {
      "cell_type": "code",
      "metadata": {
        "id": "hnhaEqkesgtT",
        "colab_type": "code",
        "colab": {
          "base_uri": "https://localhost:8080/",
          "height": 34
        },
        "outputId": "8098ba80-a819-4601-ccd1-7b3602ca3835"
      },
      "source": [
        "def profLoss(N):\n",
        "    delta = end - timedelta(days=N)\n",
        "    db = df1[delta:end]\n",
        "    print('Profit or Loss',round(db.Close.pct_change().mean(),3))\n",
        "    \n",
        "profLoss(90)"
      ],
      "execution_count": 6,
      "outputs": [
        {
          "output_type": "stream",
          "text": [
            "Profit or Loss -0.001\n"
          ],
          "name": "stdout"
        }
      ]
    },
    {
      "cell_type": "markdown",
      "metadata": {
        "id": "UYTts4zBs8wU",
        "colab_type": "text"
      },
      "source": [
        "6. Let us add a column 'Day_Perc_Change' where the values are the daily change in percentages i.e. the percentage change between 2 consecutive day's closing prices."
      ]
    },
    {
      "cell_type": "code",
      "metadata": {
        "id": "KNkEZdZvsnGD",
        "colab_type": "code",
        "colab": {
          "base_uri": "https://localhost:8080/",
          "height": 175
        },
        "outputId": "923d4469-d8ae-4b1e-cf25-ac815e65e0d4"
      },
      "source": [
        "df1['Day_perc_change'] = df1.Close.pct_change()\n",
        "df1.head(3)\n"
      ],
      "execution_count": 7,
      "outputs": [
        {
          "output_type": "execute_result",
          "data": {
            "text/html": [
              "<div>\n",
              "<style scoped>\n",
              "    .dataframe tbody tr th:only-of-type {\n",
              "        vertical-align: middle;\n",
              "    }\n",
              "\n",
              "    .dataframe tbody tr th {\n",
              "        vertical-align: top;\n",
              "    }\n",
              "\n",
              "    .dataframe thead th {\n",
              "        text-align: right;\n",
              "    }\n",
              "</style>\n",
              "<table border=\"1\" class=\"dataframe\">\n",
              "  <thead>\n",
              "    <tr style=\"text-align: right;\">\n",
              "      <th></th>\n",
              "      <th>High</th>\n",
              "      <th>Low</th>\n",
              "      <th>Open</th>\n",
              "      <th>Close</th>\n",
              "      <th>Volume</th>\n",
              "      <th>Adj Close</th>\n",
              "      <th>Day_perc_change</th>\n",
              "    </tr>\n",
              "    <tr>\n",
              "      <th>Date</th>\n",
              "      <th></th>\n",
              "      <th></th>\n",
              "      <th></th>\n",
              "      <th></th>\n",
              "      <th></th>\n",
              "      <th></th>\n",
              "      <th></th>\n",
              "    </tr>\n",
              "  </thead>\n",
              "  <tbody>\n",
              "    <tr>\n",
              "      <th>2018-07-02</th>\n",
              "      <td>1128.000000</td>\n",
              "      <td>1093.800049</td>\n",
              "      <td>1099.000000</td>\n",
              "      <td>1127.459961</td>\n",
              "      <td>1217300</td>\n",
              "      <td>1127.459961</td>\n",
              "      <td>NaN</td>\n",
              "    </tr>\n",
              "    <tr>\n",
              "      <th>2018-07-03</th>\n",
              "      <td>1135.819946</td>\n",
              "      <td>1100.020020</td>\n",
              "      <td>1135.819946</td>\n",
              "      <td>1102.890015</td>\n",
              "      <td>679000</td>\n",
              "      <td>1102.890015</td>\n",
              "      <td>-0.021792</td>\n",
              "    </tr>\n",
              "    <tr>\n",
              "      <th>2018-07-05</th>\n",
              "      <td>1127.500000</td>\n",
              "      <td>1108.479980</td>\n",
              "      <td>1110.530029</td>\n",
              "      <td>1124.270020</td>\n",
              "      <td>1066700</td>\n",
              "      <td>1124.270020</td>\n",
              "      <td>0.019385</td>\n",
              "    </tr>\n",
              "  </tbody>\n",
              "</table>\n",
              "</div>"
            ],
            "text/plain": [
              "                   High          Low  ...    Adj Close  Day_perc_change\n",
              "Date                                  ...                              \n",
              "2018-07-02  1128.000000  1093.800049  ...  1127.459961              NaN\n",
              "2018-07-03  1135.819946  1100.020020  ...  1102.890015        -0.021792\n",
              "2018-07-05  1127.500000  1108.479980  ...  1124.270020         0.019385\n",
              "\n",
              "[3 rows x 7 columns]"
            ]
          },
          "metadata": {
            "tags": []
          },
          "execution_count": 7
        }
      ]
    },
    {
      "cell_type": "code",
      "metadata": {
        "id": "AtOMQg58tHYu",
        "colab_type": "code",
        "colab": {}
      },
      "source": [
        "## As we Can Observe that first row has NaN value\n",
        "## So we will Drop the row or we can assign it any number or 0  so that it does not effect result\n",
        "\n",
        "df1.dropna(inplace=True)\n",
        "\n",
        "\n",
        "## or\n",
        "# df1.loc[0,['Day_Perc_Change']] = 0"
      ],
      "execution_count": 0,
      "outputs": []
    },
    {
      "cell_type": "markdown",
      "metadata": {
        "id": "VulzqWq2tTM1",
        "colab_type": "text"
      },
      "source": [
        "7. Let us add another column 'Trend' whose values are:<br>\n",
        "<br>\n",
        "   - 'Slight or No change' for 'Day_Perc_Change' in between -0.5 and 0.5 <br>\n",
        "   - 'Slight positive' for 'Day_Perc_Change' in between 0.5 and 1<br>\n",
        "   - 'Slight negative' for 'Day_Perc_Change' in between -0.5 and -1 <br>\n",
        "   - 'Positive' for 'Day_Perc_Change' in between 1 and 3 <br>\n",
        "   - 'Negative' for 'Day_Perc_Change' in between -1 and -3 <br>\n",
        "   - 'Among top gainers' for 'Day_Perc_Change' in between 3 and 7 <br>\n",
        "   - 'Among top losers' for 'Day_Perc_Change' in between -3 and -7 <br>\n",
        "   - 'Bull run' for 'Day_Perc_Change' >7 <br>\n",
        "   - 'Bear drop' for 'Day_Perc_Change' <-7 <br><br>\n",
        "\n",
        "\n",
        "** Simple if else do not work properly so we will use [np.select](https://docs.scipy.org/doc/numpy/reference/generated/numpy.select.html)"
      ]
    },
    {
      "cell_type": "code",
      "metadata": {
        "id": "V8N5jn3BtPoV",
        "colab_type": "code",
        "colab": {
          "base_uri": "https://localhost:8080/",
          "height": 394
        },
        "outputId": "6acb63a6-92dd-4203-c464-10a5795d40ff"
      },
      "source": [
        "conditions = [(df1.Day_perc_change>-0.5) & (df1.Day_perc_change<0.5) , \n",
        "            (df1.Day_perc_change < 1) & (df1.Day_perc_change >0.5),\n",
        "            (df1.Day_perc_change>1) & (df1.Day_perc_change<3),\n",
        "            (df1.Day_perc_change<-0.5) & (df1.Day_perc_change>-1),\n",
        "            (df1.Day_perc_change<-1) & (df1.Day_perc_change>-3),\n",
        "            (df1.Day_perc_change>3) & (df1.Day_perc_change<7),\n",
        "            (df1.Day_perc_change<-3) & (df1.Day_perc_change>-7),\n",
        "            (df1.Day_perc_change>7),\n",
        "            (df1.Day_perc_change<-7)\n",
        "]\n",
        "\n",
        "\n",
        "choices =[\n",
        "            \"Slight or No Change\",\n",
        "            'Slight Positive',\n",
        "            'Positive',\n",
        "            'Slight Negative',\n",
        "            'Negative',\n",
        "            'Among Top Gainers',\n",
        "            'Among Top Losers',\n",
        "            'Bull run',\n",
        "            'Bear Drop'\n",
        "    \n",
        "]\n",
        "\n",
        "df1['Trend'] = np.select(conditions,choices)\n",
        "df1.head(10)"
      ],
      "execution_count": 9,
      "outputs": [
        {
          "output_type": "execute_result",
          "data": {
            "text/html": [
              "<div>\n",
              "<style scoped>\n",
              "    .dataframe tbody tr th:only-of-type {\n",
              "        vertical-align: middle;\n",
              "    }\n",
              "\n",
              "    .dataframe tbody tr th {\n",
              "        vertical-align: top;\n",
              "    }\n",
              "\n",
              "    .dataframe thead th {\n",
              "        text-align: right;\n",
              "    }\n",
              "</style>\n",
              "<table border=\"1\" class=\"dataframe\">\n",
              "  <thead>\n",
              "    <tr style=\"text-align: right;\">\n",
              "      <th></th>\n",
              "      <th>High</th>\n",
              "      <th>Low</th>\n",
              "      <th>Open</th>\n",
              "      <th>Close</th>\n",
              "      <th>Volume</th>\n",
              "      <th>Adj Close</th>\n",
              "      <th>Day_perc_change</th>\n",
              "      <th>Trend</th>\n",
              "    </tr>\n",
              "    <tr>\n",
              "      <th>Date</th>\n",
              "      <th></th>\n",
              "      <th></th>\n",
              "      <th></th>\n",
              "      <th></th>\n",
              "      <th></th>\n",
              "      <th></th>\n",
              "      <th></th>\n",
              "      <th></th>\n",
              "    </tr>\n",
              "  </thead>\n",
              "  <tbody>\n",
              "    <tr>\n",
              "      <th>2018-07-03</th>\n",
              "      <td>1135.819946</td>\n",
              "      <td>1100.020020</td>\n",
              "      <td>1135.819946</td>\n",
              "      <td>1102.890015</td>\n",
              "      <td>679000</td>\n",
              "      <td>1102.890015</td>\n",
              "      <td>-0.021792</td>\n",
              "      <td>Slight or No Change</td>\n",
              "    </tr>\n",
              "    <tr>\n",
              "      <th>2018-07-05</th>\n",
              "      <td>1127.500000</td>\n",
              "      <td>1108.479980</td>\n",
              "      <td>1110.530029</td>\n",
              "      <td>1124.270020</td>\n",
              "      <td>1066700</td>\n",
              "      <td>1124.270020</td>\n",
              "      <td>0.019385</td>\n",
              "      <td>Slight or No Change</td>\n",
              "    </tr>\n",
              "    <tr>\n",
              "      <th>2018-07-06</th>\n",
              "      <td>1140.930054</td>\n",
              "      <td>1120.737061</td>\n",
              "      <td>1123.579956</td>\n",
              "      <td>1140.170044</td>\n",
              "      <td>996100</td>\n",
              "      <td>1140.170044</td>\n",
              "      <td>0.014143</td>\n",
              "      <td>Slight or No Change</td>\n",
              "    </tr>\n",
              "    <tr>\n",
              "      <th>2018-07-09</th>\n",
              "      <td>1154.670044</td>\n",
              "      <td>1143.420044</td>\n",
              "      <td>1148.479980</td>\n",
              "      <td>1154.050049</td>\n",
              "      <td>909000</td>\n",
              "      <td>1154.050049</td>\n",
              "      <td>0.012174</td>\n",
              "      <td>Slight or No Change</td>\n",
              "    </tr>\n",
              "    <tr>\n",
              "      <th>2018-07-10</th>\n",
              "      <td>1159.589966</td>\n",
              "      <td>1149.589966</td>\n",
              "      <td>1156.979980</td>\n",
              "      <td>1152.839966</td>\n",
              "      <td>798400</td>\n",
              "      <td>1152.839966</td>\n",
              "      <td>-0.001049</td>\n",
              "      <td>Slight or No Change</td>\n",
              "    </tr>\n",
              "    <tr>\n",
              "      <th>2018-07-11</th>\n",
              "      <td>1164.290039</td>\n",
              "      <td>1141.000000</td>\n",
              "      <td>1144.589966</td>\n",
              "      <td>1153.900024</td>\n",
              "      <td>1120000</td>\n",
              "      <td>1153.900024</td>\n",
              "      <td>0.000920</td>\n",
              "      <td>Slight or No Change</td>\n",
              "    </tr>\n",
              "    <tr>\n",
              "      <th>2018-07-12</th>\n",
              "      <td>1184.410034</td>\n",
              "      <td>1155.935059</td>\n",
              "      <td>1159.890015</td>\n",
              "      <td>1183.479980</td>\n",
              "      <td>1251900</td>\n",
              "      <td>1183.479980</td>\n",
              "      <td>0.025635</td>\n",
              "      <td>Slight or No Change</td>\n",
              "    </tr>\n",
              "    <tr>\n",
              "      <th>2018-07-13</th>\n",
              "      <td>1195.416992</td>\n",
              "      <td>1180.000000</td>\n",
              "      <td>1185.000000</td>\n",
              "      <td>1188.819946</td>\n",
              "      <td>1221900</td>\n",
              "      <td>1188.819946</td>\n",
              "      <td>0.004512</td>\n",
              "      <td>Slight or No Change</td>\n",
              "    </tr>\n",
              "    <tr>\n",
              "      <th>2018-07-16</th>\n",
              "      <td>1191.000000</td>\n",
              "      <td>1179.280029</td>\n",
              "      <td>1189.390015</td>\n",
              "      <td>1183.859985</td>\n",
              "      <td>1055700</td>\n",
              "      <td>1183.859985</td>\n",
              "      <td>-0.004172</td>\n",
              "      <td>Slight or No Change</td>\n",
              "    </tr>\n",
              "    <tr>\n",
              "      <th>2018-07-17</th>\n",
              "      <td>1203.040039</td>\n",
              "      <td>1170.599976</td>\n",
              "      <td>1172.219971</td>\n",
              "      <td>1198.800049</td>\n",
              "      <td>1610400</td>\n",
              "      <td>1198.800049</td>\n",
              "      <td>0.012620</td>\n",
              "      <td>Slight or No Change</td>\n",
              "    </tr>\n",
              "  </tbody>\n",
              "</table>\n",
              "</div>"
            ],
            "text/plain": [
              "                   High          Low  ...  Day_perc_change                Trend\n",
              "Date                                  ...                                      \n",
              "2018-07-03  1135.819946  1100.020020  ...        -0.021792  Slight or No Change\n",
              "2018-07-05  1127.500000  1108.479980  ...         0.019385  Slight or No Change\n",
              "2018-07-06  1140.930054  1120.737061  ...         0.014143  Slight or No Change\n",
              "2018-07-09  1154.670044  1143.420044  ...         0.012174  Slight or No Change\n",
              "2018-07-10  1159.589966  1149.589966  ...        -0.001049  Slight or No Change\n",
              "2018-07-11  1164.290039  1141.000000  ...         0.000920  Slight or No Change\n",
              "2018-07-12  1184.410034  1155.935059  ...         0.025635  Slight or No Change\n",
              "2018-07-13  1195.416992  1180.000000  ...         0.004512  Slight or No Change\n",
              "2018-07-16  1191.000000  1179.280029  ...        -0.004172  Slight or No Change\n",
              "2018-07-17  1203.040039  1170.599976  ...         0.012620  Slight or No Change\n",
              "\n",
              "[10 rows x 8 columns]"
            ]
          },
          "metadata": {
            "tags": []
          },
          "execution_count": 9
        }
      ]
    },
    {
      "cell_type": "markdown",
      "metadata": {
        "id": "8UagMUOitukU",
        "colab_type": "text"
      },
      "source": [
        "8. Lets find the Average and Median values of Column 'Volume' for each of the types of 'Trend'. \n",
        "<br>Here we will first use the Group by on Trend and then calculate average and median values of the column."
      ]
    },
    {
      "cell_type": "code",
      "metadata": {
        "id": "AmargBQPtpHR",
        "colab_type": "code",
        "colab": {
          "base_uri": "https://localhost:8080/",
          "height": 139
        },
        "outputId": "e8cd1227-20dd-49af-a453-a9c0c901825c"
      },
      "source": [
        "print('The Average Value is',df1.groupby(df1.Trend)['Volume'].mean(),'\\n')\n",
        "print('The Median Value is' , df1.groupby(df1.Trend)['Volume'].median())\n",
        "\n",
        "## Here we got only one trend as stock prices of google is quite stable \n",
        "## Therfore trend is only Slight or No change"
      ],
      "execution_count": 10,
      "outputs": [
        {
          "output_type": "stream",
          "text": [
            "The Average Value is Trend\n",
            "Slight or No Change    1607370.8\n",
            "Name: Volume, dtype: float64 \n",
            "\n",
            "The Median Value is Trend\n",
            "Slight or No Change    1436100\n",
            "Name: Volume, dtype: int64\n"
          ],
          "name": "stdout"
        }
      ]
    },
    {
      "cell_type": "code",
      "metadata": {
        "id": "_QvMfkrOuDlV",
        "colab_type": "code",
        "colab": {}
      },
      "source": [
        "## Now let us Save the Data Frame\n",
        "df1.to_csv('google.csv')"
      ],
      "execution_count": 0,
      "outputs": []
    },
    {
      "cell_type": "markdown",
      "metadata": {
        "id": "dvfnSIGOuP_Y",
        "colab_type": "text"
      },
      "source": [
        "** Check the Working Directory"
      ]
    }
  ]
}