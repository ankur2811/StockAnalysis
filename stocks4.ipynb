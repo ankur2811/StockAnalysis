{
  "nbformat": 4,
  "nbformat_minor": 0,
  "metadata": {
    "colab": {
      "name": "stocks4.ipynb",
      "version": "0.3.2",
      "provenance": [],
      "collapsed_sections": [],
      "toc_visible": true,
      "include_colab_link": true
    },
    "kernelspec": {
      "name": "python3",
      "display_name": "Python 3"
    }
  },
  "cells": [
    {
      "cell_type": "markdown",
      "metadata": {
        "id": "view-in-github",
        "colab_type": "text"
      },
      "source": [
        "<a href=\"https://colab.research.google.com/github/mechamrit/StockAnalysis/blob/master/stocks4.ipynb\" target=\"_parent\"><img src=\"https://colab.research.google.com/assets/colab-badge.svg\" alt=\"Open In Colab\"/></a>"
      ]
    },
    {
      "cell_type": "markdown",
      "metadata": {
        "id": "TyH_1cOoiEW-",
        "colab_type": "text"
      },
      "source": [
        "# Trade Call Prediction using Classification\n"
      ]
    },
    {
      "cell_type": "code",
      "metadata": {
        "id": "Y4aEoF1dfrMg",
        "colab_type": "code",
        "colab": {}
      },
      "source": [
        "import pandas as pd\n",
        "import numpy as np\n",
        "from sklearn.metrics import classification_report\n",
        "from sklearn.metrics import confusion_matrix\n",
        "from sklearn.model_selection import train_test_split"
      ],
      "execution_count": 0,
      "outputs": []
    },
    {
      "cell_type": "markdown",
      "metadata": {
        "id": "UUKRXuttfY-d",
        "colab_type": "text"
      },
      "source": [
        "Import the csv file of the stock which contained the Bollinger columns as well i.e boll.csv in module 2."
      ]
    },
    {
      "cell_type": "code",
      "metadata": {
        "id": "18ThpI9kh96d",
        "colab_type": "code",
        "outputId": "574dd374-a2f2-408f-ae6f-63390466d36b",
        "colab": {
          "base_uri": "https://localhost:8080/",
          "height": 268
        }
      },
      "source": [
        "df1 = pd.read_csv('boll.csv')\n",
        "df1.head(3)"
      ],
      "execution_count": 2,
      "outputs": [
        {
          "output_type": "execute_result",
          "data": {
            "text/html": [
              "<div>\n",
              "<style scoped>\n",
              "    .dataframe tbody tr th:only-of-type {\n",
              "        vertical-align: middle;\n",
              "    }\n",
              "\n",
              "    .dataframe tbody tr th {\n",
              "        vertical-align: top;\n",
              "    }\n",
              "\n",
              "    .dataframe thead th {\n",
              "        text-align: right;\n",
              "    }\n",
              "</style>\n",
              "<table border=\"1\" class=\"dataframe\">\n",
              "  <thead>\n",
              "    <tr style=\"text-align: right;\">\n",
              "      <th></th>\n",
              "      <th>Date</th>\n",
              "      <th>High</th>\n",
              "      <th>Low</th>\n",
              "      <th>Open</th>\n",
              "      <th>Close</th>\n",
              "      <th>Volume</th>\n",
              "      <th>Adj Close</th>\n",
              "      <th>Day_perc_change</th>\n",
              "      <th>Trend</th>\n",
              "      <th>Upperband</th>\n",
              "      <th>Lowerband</th>\n",
              "      <th>Middle</th>\n",
              "    </tr>\n",
              "  </thead>\n",
              "  <tbody>\n",
              "    <tr>\n",
              "      <th>0</th>\n",
              "      <td>2018-07-03</td>\n",
              "      <td>1135.819946</td>\n",
              "      <td>1100.020020</td>\n",
              "      <td>1135.819946</td>\n",
              "      <td>1102.890015</td>\n",
              "      <td>679000</td>\n",
              "      <td>1102.890015</td>\n",
              "      <td>-0.021792</td>\n",
              "      <td>Slight or No Change</td>\n",
              "      <td>NaN</td>\n",
              "      <td>NaN</td>\n",
              "      <td>NaN</td>\n",
              "    </tr>\n",
              "    <tr>\n",
              "      <th>1</th>\n",
              "      <td>2018-07-05</td>\n",
              "      <td>1127.500000</td>\n",
              "      <td>1108.479980</td>\n",
              "      <td>1110.530029</td>\n",
              "      <td>1124.270020</td>\n",
              "      <td>1066700</td>\n",
              "      <td>1124.270020</td>\n",
              "      <td>0.019385</td>\n",
              "      <td>Slight or No Change</td>\n",
              "      <td>NaN</td>\n",
              "      <td>NaN</td>\n",
              "      <td>NaN</td>\n",
              "    </tr>\n",
              "    <tr>\n",
              "      <th>2</th>\n",
              "      <td>2018-07-06</td>\n",
              "      <td>1140.930054</td>\n",
              "      <td>1120.737061</td>\n",
              "      <td>1123.579956</td>\n",
              "      <td>1140.170044</td>\n",
              "      <td>996100</td>\n",
              "      <td>1140.170044</td>\n",
              "      <td>0.014143</td>\n",
              "      <td>Slight or No Change</td>\n",
              "      <td>NaN</td>\n",
              "      <td>NaN</td>\n",
              "      <td>NaN</td>\n",
              "    </tr>\n",
              "  </tbody>\n",
              "</table>\n",
              "</div>"
            ],
            "text/plain": [
              "         Date         High          Low  ...  Upperband  Lowerband  Middle\n",
              "0  2018-07-03  1135.819946  1100.020020  ...        NaN        NaN     NaN\n",
              "1  2018-07-05  1127.500000  1108.479980  ...        NaN        NaN     NaN\n",
              "2  2018-07-06  1140.930054  1120.737061  ...        NaN        NaN     NaN\n",
              "\n",
              "[3 rows x 12 columns]"
            ]
          },
          "metadata": {
            "tags": []
          },
          "execution_count": 2
        }
      ]
    },
    {
      "cell_type": "code",
      "metadata": {
        "id": "ZbJW3esdfwPl",
        "colab_type": "code",
        "colab": {}
      },
      "source": [
        "## Droppping the nan rows\n",
        "df1.dropna(inplace=True)"
      ],
      "execution_count": 0,
      "outputs": []
    },
    {
      "cell_type": "markdown",
      "metadata": {
        "id": "GKFImUYPf6sA",
        "colab_type": "text"
      },
      "source": [
        "Creating a new column 'Call' , whose entries are - \n",
        "\n",
        ">'Buy' if the stock price is below the lower Bollinger band \n",
        "\n",
        ">'Hold Buy/ Liquidate Short' if the stock price is between the lower and middle Bollinger band \n",
        "\n",
        ">'Hold Short/ Liquidate Buy' if the stock price is between the middle and upper Bollinger band \n",
        "\n",
        ">'Short' if the stock price is above the upper Bollinger band"
      ]
    },
    {
      "cell_type": "code",
      "metadata": {
        "id": "-NQIzYbTfvUD",
        "colab_type": "code",
        "colab": {}
      },
      "source": [
        "\n",
        "\n",
        "conditions = [(df1['Close']< df1['Lowerband']),\n",
        "            ((df1['Close'] < df1.Middle) & (df1['Close'] > df1.Lowerband)),\n",
        "            ((df1['Close']> df1.Middle) & (df1['Close']< df1.Upperband)),\n",
        "            (df1['Close']< df1.Upperband) \n",
        "]\n",
        "\n",
        "\n",
        "choices =[\n",
        "            'Buy',\n",
        "            'Hold Buy/Liquidate Short',\n",
        "            'Hold Short/Liquidate Buy',\n",
        "            'Short'\n",
        "]\n",
        "\n",
        "\n",
        "df1['Call'] = np.select(conditions, choices)\n",
        "df1.drop(df1[df1.Call== '0'].index,axis=0,inplace=True)\n"
      ],
      "execution_count": 0,
      "outputs": []
    },
    {
      "cell_type": "markdown",
      "metadata": {
        "id": "TygMpJdBibzY",
        "colab_type": "text"
      },
      "source": [
        "# Training the  Model\n",
        "Now train a classification model with the 3 bollinger columns and the stock price as inputs and 'Calls' as output"
      ]
    },
    {
      "cell_type": "code",
      "metadata": {
        "id": "iZ1FOYxWgD4X",
        "colab_type": "code",
        "colab": {}
      },
      "source": [
        "df1.isnull().values.any()\n",
        "df1.dropna(inplace=True)"
      ],
      "execution_count": 0,
      "outputs": []
    },
    {
      "cell_type": "code",
      "metadata": {
        "id": "MFphsa7XlRY8",
        "colab_type": "code",
        "outputId": "c5bc388b-b4c6-4c43-b0ee-d92fa44cb18e",
        "colab": {
          "base_uri": "https://localhost:8080/",
          "height": 52
        }
      },
      "source": [
        "df1.Call.unique()"
      ],
      "execution_count": 6,
      "outputs": [
        {
          "output_type": "execute_result",
          "data": {
            "text/plain": [
              "array(['Hold Short/Liquidate Buy', 'Hold Buy/Liquidate Short', 'Buy'],\n",
              "      dtype=object)"
            ]
          },
          "metadata": {
            "tags": []
          },
          "execution_count": 6
        }
      ]
    },
    {
      "cell_type": "code",
      "metadata": {
        "id": "bhxtfHA5lflD",
        "colab_type": "code",
        "outputId": "3bf1bbb7-36bf-4126-a3e2-e90eb5073da7",
        "colab": {
          "base_uri": "https://localhost:8080/",
          "height": 260
        }
      },
      "source": [
        "df1[df1['Call'].values == 'Hold Short/Liquidate Buy'].count()"
      ],
      "execution_count": 7,
      "outputs": [
        {
          "output_type": "execute_result",
          "data": {
            "text/plain": [
              "Date               112\n",
              "High               112\n",
              "Low                112\n",
              "Open               112\n",
              "Close              112\n",
              "Volume             112\n",
              "Adj Close          112\n",
              "Day_perc_change    112\n",
              "Trend              112\n",
              "Upperband          112\n",
              "Lowerband          112\n",
              "Middle             112\n",
              "Call               112\n",
              "dtype: int64"
            ]
          },
          "metadata": {
            "tags": []
          },
          "execution_count": 7
        }
      ]
    },
    {
      "cell_type": "markdown",
      "metadata": {
        "id": "CjCLhL-pio1Y",
        "colab_type": "text"
      },
      "source": [
        "## Preprocessing The Data"
      ]
    },
    {
      "cell_type": "markdown",
      "metadata": {
        "id": "s-w9HYpsjxVS",
        "colab_type": "text"
      },
      "source": [
        "\n",
        "\n",
        "To center the data (make it have zero mean and unit standard error), you subtract the mean and then divide the result by the standard deviation.\n",
        "\n",
        "x′=x−μσ\n",
        "\n",
        "You do that on the training set of data. But then you have to apply the same transformation to your testing set (e.g. in cross-validation), or to newly obtained examples before forecast. But you have to use the same two parameters μ\n",
        "and σ\n",
        "\n",
        "(values) that you used for centering the training set.\n",
        "\n",
        "Hence, every sklearn's transform's fit() just calculates the parameters (e.g. μ\n",
        "and σ\n",
        "\n",
        "in case of StandardScaler) and saves them as an internal objects state. Afterwards, you can call its transform() method to apply the transformation to a particular set of examples.\n",
        "\n",
        "fit_transform() joins these two steps and is used for the initial fitting of parameters on the training set x\n",
        ", but it also returns a transformed x′. Internally, it just calls first fit() and then transform() on the same data.[source](https://datascience.stackexchange.com/questions/12321/difference-between-fit-and-fit-transform-in-scikit-learn-models)"
      ]
    },
    {
      "cell_type": "code",
      "metadata": {
        "id": "j5oGtmIcimSn",
        "colab_type": "code",
        "colab": {}
      },
      "source": [
        "## Training this model with the Logistic Regression\n",
        "## Here we have to define the data\n",
        "X = df1[['Close','Upperband','Lowerband','Middle']].values\n",
        "Y = df1['Call'].values\n",
        "\n",
        "## Splitting the data \n",
        "X_train, X_test, y_train, y_test = train_test_split(X,Y,test_size=0.2)\n",
        "\n",
        "# from sklearn.preprocessing import StandardScaler\n",
        "# sc = StandardScaler()\n",
        "# X_train = sc.fit_transform(X_train)\n",
        "# X_test = sc.fit_transform(X_test)"
      ],
      "execution_count": 0,
      "outputs": []
    },
    {
      "cell_type": "markdown",
      "metadata": {
        "id": "Yof_nCiIkJEq",
        "colab_type": "text"
      },
      "source": [
        "## Logistic Regression\n"
      ]
    },
    {
      "cell_type": "code",
      "metadata": {
        "id": "XDl4lXHxkIvK",
        "colab_type": "code",
        "outputId": "96d2866b-4747-4406-aa67-ac3e1b0608d2",
        "colab": {
          "base_uri": "https://localhost:8080/",
          "height": 159
        }
      },
      "source": [
        "from sklearn.linear_model import LogisticRegression\n",
        "model1 = LogisticRegression()\n",
        "model1.fit(X_train,y_train)\n",
        "\n",
        "y1_pred = model1.predict(X_test)\n",
        "\n",
        "## Checking the model with confusion metrice\n",
        "\n",
        "cm = confusion_matrix(y_test,y1_pred)\n",
        "cm"
      ],
      "execution_count": 9,
      "outputs": [
        {
          "output_type": "stream",
          "text": [
            "/usr/local/lib/python3.6/dist-packages/sklearn/linear_model/logistic.py:432: FutureWarning: Default solver will be changed to 'lbfgs' in 0.22. Specify a solver to silence this warning.\n",
            "  FutureWarning)\n",
            "/usr/local/lib/python3.6/dist-packages/sklearn/linear_model/logistic.py:469: FutureWarning: Default multi_class will be changed to 'auto' in 0.22. Specify the multi_class option to silence this warning.\n",
            "  \"this warning.\", FutureWarning)\n"
          ],
          "name": "stderr"
        },
        {
          "output_type": "execute_result",
          "data": {
            "text/plain": [
              "array([[ 0,  2,  0],\n",
              "       [ 0, 21,  0],\n",
              "       [ 0,  0, 23]])"
            ]
          },
          "metadata": {
            "tags": []
          },
          "execution_count": 9
        }
      ]
    },
    {
      "cell_type": "code",
      "metadata": {
        "id": "zCH0mlJzkZqu",
        "colab_type": "code",
        "outputId": "e1ce1641-e5b8-418a-8c13-0c1633aedaea",
        "colab": {
          "base_uri": "https://localhost:8080/",
          "height": 245
        }
      },
      "source": [
        "## Classification report \n",
        "print(classification_report(y_test, y1_pred))"
      ],
      "execution_count": 10,
      "outputs": [
        {
          "output_type": "stream",
          "text": [
            "                          precision    recall  f1-score   support\n",
            "\n",
            "                     Buy       0.00      0.00      0.00         2\n",
            "Hold Buy/Liquidate Short       0.91      1.00      0.95        21\n",
            "Hold Short/Liquidate Buy       1.00      1.00      1.00        23\n",
            "\n",
            "                accuracy                           0.96        46\n",
            "               macro avg       0.64      0.67      0.65        46\n",
            "            weighted avg       0.92      0.96      0.94        46\n",
            "\n"
          ],
          "name": "stdout"
        },
        {
          "output_type": "stream",
          "text": [
            "/usr/local/lib/python3.6/dist-packages/sklearn/metrics/classification.py:1437: UndefinedMetricWarning: Precision and F-score are ill-defined and being set to 0.0 in labels with no predicted samples.\n",
            "  'precision', 'predicted', average, warn_for)\n"
          ],
          "name": "stderr"
        }
      ]
    },
    {
      "cell_type": "markdown",
      "metadata": {
        "id": "8fWnJT42m-04",
        "colab_type": "text"
      },
      "source": [
        "## K-Nearest Neighbour Classification\n",
        "\n",
        "We will use the same dataset in all these "
      ]
    },
    {
      "cell_type": "code",
      "metadata": {
        "id": "V_Yem4qAlHnE",
        "colab_type": "code",
        "outputId": "57200965-0144-41cc-ac90-59ce18d97c6e",
        "colab": {
          "base_uri": "https://localhost:8080/",
          "height": 69
        }
      },
      "source": [
        "from sklearn.neighbors import KNeighborsClassifier\n",
        "model2 = KNeighborsClassifier(n_neighbors=5,metric='minkowski',p=2)\n",
        "model2.fit(X_train,y_train)\n",
        "\n",
        "## Predicting with help of KNN\n",
        "y2_pred = model2.predict(X_test)\n",
        "\n",
        "## Checking the error\n",
        "cm2 = confusion_matrix(y_test , y2_pred)\n",
        "cm2"
      ],
      "execution_count": 11,
      "outputs": [
        {
          "output_type": "execute_result",
          "data": {
            "text/plain": [
              "array([[ 0,  2,  0],\n",
              "       [ 0, 19,  2],\n",
              "       [ 0,  2, 21]])"
            ]
          },
          "metadata": {
            "tags": []
          },
          "execution_count": 11
        }
      ]
    },
    {
      "cell_type": "code",
      "metadata": {
        "id": "FPmqYmdinMQw",
        "colab_type": "code",
        "outputId": "e96dfa6f-c471-480f-e9d3-bd5c3e79c9ee",
        "colab": {
          "base_uri": "https://localhost:8080/",
          "height": 245
        }
      },
      "source": [
        "cr2 = classification_report(y_test,y2_pred)\n",
        "print(cr2)"
      ],
      "execution_count": 12,
      "outputs": [
        {
          "output_type": "stream",
          "text": [
            "                          precision    recall  f1-score   support\n",
            "\n",
            "                     Buy       0.00      0.00      0.00         2\n",
            "Hold Buy/Liquidate Short       0.83      0.90      0.86        21\n",
            "Hold Short/Liquidate Buy       0.91      0.91      0.91        23\n",
            "\n",
            "                accuracy                           0.87        46\n",
            "               macro avg       0.58      0.61      0.59        46\n",
            "            weighted avg       0.83      0.87      0.85        46\n",
            "\n"
          ],
          "name": "stdout"
        },
        {
          "output_type": "stream",
          "text": [
            "/usr/local/lib/python3.6/dist-packages/sklearn/metrics/classification.py:1437: UndefinedMetricWarning: Precision and F-score are ill-defined and being set to 0.0 in labels with no predicted samples.\n",
            "  'precision', 'predicted', average, warn_for)\n"
          ],
          "name": "stderr"
        }
      ]
    },
    {
      "cell_type": "markdown",
      "metadata": {
        "id": "fYtVDAiAnnOD",
        "colab_type": "text"
      },
      "source": [
        "## SVM or Support Vector Machine"
      ]
    },
    {
      "cell_type": "code",
      "metadata": {
        "id": "nhtXIfCbnUif",
        "colab_type": "code",
        "outputId": "769f68be-c1a7-47b7-c019-c82b77f6ffb6",
        "colab": {
          "base_uri": "https://localhost:8080/",
          "height": 124
        }
      },
      "source": [
        "from sklearn.svm import SVC\n",
        "model3 = SVC()\n",
        "model3.fit(X_train,y_train)\n",
        "y3_pred = model3.predict(X_test)\n",
        "\n",
        "cm3  = confusion_matrix(y_test,y3_pred)\n",
        "cm3"
      ],
      "execution_count": 13,
      "outputs": [
        {
          "output_type": "stream",
          "text": [
            "/usr/local/lib/python3.6/dist-packages/sklearn/svm/base.py:193: FutureWarning: The default value of gamma will change from 'auto' to 'scale' in version 0.22 to account better for unscaled features. Set gamma explicitly to 'auto' or 'scale' to avoid this warning.\n",
            "  \"avoid this warning.\", FutureWarning)\n"
          ],
          "name": "stderr"
        },
        {
          "output_type": "execute_result",
          "data": {
            "text/plain": [
              "array([[ 0,  2,  0],\n",
              "       [ 0, 20,  1],\n",
              "       [ 0, 21,  2]])"
            ]
          },
          "metadata": {
            "tags": []
          },
          "execution_count": 13
        }
      ]
    },
    {
      "cell_type": "code",
      "metadata": {
        "id": "GzghtI3Knvdc",
        "colab_type": "code",
        "outputId": "4849de15-5024-4dd0-b800-65e8c4c3bf33",
        "colab": {
          "base_uri": "https://localhost:8080/",
          "height": 245
        }
      },
      "source": [
        "cr3 = classification_report(y_test,y3_pred)\n",
        "print(cr3)"
      ],
      "execution_count": 14,
      "outputs": [
        {
          "output_type": "stream",
          "text": [
            "                          precision    recall  f1-score   support\n",
            "\n",
            "                     Buy       0.00      0.00      0.00         2\n",
            "Hold Buy/Liquidate Short       0.47      0.95      0.62        21\n",
            "Hold Short/Liquidate Buy       0.67      0.09      0.15        23\n",
            "\n",
            "                accuracy                           0.48        46\n",
            "               macro avg       0.38      0.35      0.26        46\n",
            "            weighted avg       0.55      0.48      0.36        46\n",
            "\n"
          ],
          "name": "stdout"
        },
        {
          "output_type": "stream",
          "text": [
            "/usr/local/lib/python3.6/dist-packages/sklearn/metrics/classification.py:1437: UndefinedMetricWarning: Precision and F-score are ill-defined and being set to 0.0 in labels with no predicted samples.\n",
            "  'precision', 'predicted', average, warn_for)\n"
          ],
          "name": "stderr"
        }
      ]
    },
    {
      "cell_type": "markdown",
      "metadata": {
        "id": "TySbRsoKn3bj",
        "colab_type": "text"
      },
      "source": [
        "## Naive Bayes Theorem"
      ]
    },
    {
      "cell_type": "code",
      "metadata": {
        "id": "nUVUBbO1nymS",
        "colab_type": "code",
        "outputId": "c90224f6-97f6-417f-a5ae-31bd022bd6be",
        "colab": {
          "base_uri": "https://localhost:8080/",
          "height": 69
        }
      },
      "source": [
        "## Importing the NBT\n",
        "from sklearn.naive_bayes import GaussianNB\n",
        "model4 = GaussianNB()\n",
        "\n",
        "## Fitting data in model\n",
        "model4.fit(X_train,y_train)\n",
        "\n",
        "y4_pred = model4.predict(X_test)\n",
        "\n",
        "cm4  = confusion_matrix(y_test,y4_pred)\n",
        "cm4"
      ],
      "execution_count": 15,
      "outputs": [
        {
          "output_type": "execute_result",
          "data": {
            "text/plain": [
              "array([[ 0,  1,  1],\n",
              "       [ 0, 12,  9],\n",
              "       [ 0, 15,  8]])"
            ]
          },
          "metadata": {
            "tags": []
          },
          "execution_count": 15
        }
      ]
    },
    {
      "cell_type": "code",
      "metadata": {
        "id": "vquGaYEAoCDy",
        "colab_type": "code",
        "outputId": "0184cdcc-c90e-4630-9c49-dcbb2890c00c",
        "colab": {
          "base_uri": "https://localhost:8080/",
          "height": 245
        }
      },
      "source": [
        "cr4 = classification_report(y_test,y4_pred)\n",
        "print(cr4)"
      ],
      "execution_count": 16,
      "outputs": [
        {
          "output_type": "stream",
          "text": [
            "                          precision    recall  f1-score   support\n",
            "\n",
            "                     Buy       0.00      0.00      0.00         2\n",
            "Hold Buy/Liquidate Short       0.43      0.57      0.49        21\n",
            "Hold Short/Liquidate Buy       0.44      0.35      0.39        23\n",
            "\n",
            "                accuracy                           0.43        46\n",
            "               macro avg       0.29      0.31      0.29        46\n",
            "            weighted avg       0.42      0.43      0.42        46\n",
            "\n"
          ],
          "name": "stdout"
        },
        {
          "output_type": "stream",
          "text": [
            "/usr/local/lib/python3.6/dist-packages/sklearn/metrics/classification.py:1437: UndefinedMetricWarning: Precision and F-score are ill-defined and being set to 0.0 in labels with no predicted samples.\n",
            "  'precision', 'predicted', average, warn_for)\n"
          ],
          "name": "stderr"
        }
      ]
    },
    {
      "cell_type": "code",
      "metadata": {
        "id": "u3Q58IjboEym",
        "colab_type": "code",
        "outputId": "2aa3f1d6-ff34-40c0-f641-cd033fa32ed7",
        "colab": {
          "base_uri": "https://localhost:8080/",
          "height": 291
        }
      },
      "source": [
        "import seaborn as sns\n",
        "\n",
        "sns.set(style=\"whitegrid\")\n",
        "ax = sns.stripplot(x=df1[\"Close\"])"
      ],
      "execution_count": 17,
      "outputs": [
        {
          "output_type": "display_data",
          "data": {
            "image/png": "[encoded data removed]",
            "text/plain": [
              "<Figure size 432x288 with 1 Axes>"
            ]
          },
          "metadata": {
            "tags": []
          }
        }
      ]
    },
    {
      "cell_type": "markdown",
      "metadata": {
        "id": "ZoiI4QAPVyT3",
        "colab_type": "text"
      },
      "source": [
        "# Random Forest Classification (on other dataset) \n",
        "we'll again utilize classification to make a trade call, and measure the efficiency of our trading algorithm over the past two years. For this assignment , we will use RandomForest classifier."
      ]
    },
    {
      "cell_type": "markdown",
      "metadata": {
        "id": "jjnuINm7Xb-n",
        "colab_type": "text"
      },
      "source": [
        " > Define 4 new columns , whose values are:\n",
        "   \n",
        "   > % change between Open and Close price for the day\n",
        "   \n",
        "   > % change between Low and High price for the day\n",
        "   \n",
        "   >5 day rolling mean of the day to day % change in Close Price\n",
        "   \n",
        "   >5 day rolling std of the day to day % change in Close Price\n",
        "   \n",
        "   >Create a new column 'Action' whose values are:\n",
        "   \n",
        "   >1 if next day's price(Close) is greater than present day's.\n",
        "   \n",
        "   >(-1) if next day's price(Close) is less than present day's.\n",
        "    >i.e. Action [ i ] = 1 if Close[ i+1 ] > Close[ i ]\n",
        "   \n",
        "   >i.e. Action [ i ] = (-1) if Close[ i+1 ] < Close[ i ]\n",
        "   \n",
        "   >Construct a classification model with the 4 new inputs and 'Action' as target\n",
        "  "
      ]
    },
    {
      "cell_type": "code",
      "metadata": {
        "id": "rkeo4mZ5oOIE",
        "colab_type": "code",
        "outputId": "f99a7248-d350-4f0e-9c2d-cbeb1c801da3",
        "colab": {
          "base_uri": "https://localhost:8080/",
          "height": 175
        }
      },
      "source": [
        "import pandas_datareader.data as pdr\n",
        "from datetime import datetime, timedelta \n",
        "import numpy as np\n",
        "\n",
        "##datetime(year, month, day[, hour[, minute[, second[, microsecond[,tzinfo]]]]])\n",
        "start = datetime(2017 , 7 ,1)\n",
        "end = datetime(2019, 7 , 1)\n",
        "\n",
        "## Importing the Google finance\n",
        "df2 = pdr.DataReader(\"MSFT\", 'yahoo', start, end)\n",
        "df2.tail(3)"
      ],
      "execution_count": 18,
      "outputs": [
        {
          "output_type": "execute_result",
          "data": {
            "text/html": [
              "<div>\n",
              "<style scoped>\n",
              "    .dataframe tbody tr th:only-of-type {\n",
              "        vertical-align: middle;\n",
              "    }\n",
              "\n",
              "    .dataframe tbody tr th {\n",
              "        vertical-align: top;\n",
              "    }\n",
              "\n",
              "    .dataframe thead th {\n",
              "        text-align: right;\n",
              "    }\n",
              "</style>\n",
              "<table border=\"1\" class=\"dataframe\">\n",
              "  <thead>\n",
              "    <tr style=\"text-align: right;\">\n",
              "      <th></th>\n",
              "      <th>High</th>\n",
              "      <th>Low</th>\n",
              "      <th>Open</th>\n",
              "      <th>Close</th>\n",
              "      <th>Volume</th>\n",
              "      <th>Adj Close</th>\n",
              "    </tr>\n",
              "    <tr>\n",
              "      <th>Date</th>\n",
              "      <th></th>\n",
              "      <th></th>\n",
              "      <th></th>\n",
              "      <th></th>\n",
              "      <th></th>\n",
              "      <th></th>\n",
              "    </tr>\n",
              "  </thead>\n",
              "  <tbody>\n",
              "    <tr>\n",
              "      <th>2019-06-27</th>\n",
              "      <td>134.710007</td>\n",
              "      <td>133.509995</td>\n",
              "      <td>134.139999</td>\n",
              "      <td>134.149994</td>\n",
              "      <td>16557500.0</td>\n",
              "      <td>133.704758</td>\n",
              "    </tr>\n",
              "    <tr>\n",
              "      <th>2019-06-28</th>\n",
              "      <td>134.600006</td>\n",
              "      <td>133.160004</td>\n",
              "      <td>134.570007</td>\n",
              "      <td>133.960007</td>\n",
              "      <td>30043000.0</td>\n",
              "      <td>133.515411</td>\n",
              "    </tr>\n",
              "    <tr>\n",
              "      <th>2019-07-01</th>\n",
              "      <td>136.699997</td>\n",
              "      <td>134.970001</td>\n",
              "      <td>136.630005</td>\n",
              "      <td>135.679993</td>\n",
              "      <td>22654200.0</td>\n",
              "      <td>135.229691</td>\n",
              "    </tr>\n",
              "  </tbody>\n",
              "</table>\n",
              "</div>"
            ],
            "text/plain": [
              "                  High         Low  ...      Volume   Adj Close\n",
              "Date                                ...                        \n",
              "2019-06-27  134.710007  133.509995  ...  16557500.0  133.704758\n",
              "2019-06-28  134.600006  133.160004  ...  30043000.0  133.515411\n",
              "2019-07-01  136.699997  134.970001  ...  22654200.0  135.229691\n",
              "\n",
              "[3 rows x 6 columns]"
            ]
          },
          "metadata": {
            "tags": []
          },
          "execution_count": 18
        }
      ]
    },
    {
      "cell_type": "code",
      "metadata": {
        "id": "-TspNrdepu9L",
        "colab_type": "code",
        "outputId": "a534e02a-c239-4613-a5af-3fc49988ded3",
        "colab": {
          "base_uri": "https://localhost:8080/",
          "height": 175
        }
      },
      "source": [
        "df2['Perc'] = ((df2['Open'] - df2['Close']) /df2['Open'] )*100\n",
        "df2.head(3)"
      ],
      "execution_count": 19,
      "outputs": [
        {
          "output_type": "execute_result",
          "data": {
            "text/html": [
              "<div>\n",
              "<style scoped>\n",
              "    .dataframe tbody tr th:only-of-type {\n",
              "        vertical-align: middle;\n",
              "    }\n",
              "\n",
              "    .dataframe tbody tr th {\n",
              "        vertical-align: top;\n",
              "    }\n",
              "\n",
              "    .dataframe thead th {\n",
              "        text-align: right;\n",
              "    }\n",
              "</style>\n",
              "<table border=\"1\" class=\"dataframe\">\n",
              "  <thead>\n",
              "    <tr style=\"text-align: right;\">\n",
              "      <th></th>\n",
              "      <th>High</th>\n",
              "      <th>Low</th>\n",
              "      <th>Open</th>\n",
              "      <th>Close</th>\n",
              "      <th>Volume</th>\n",
              "      <th>Adj Close</th>\n",
              "      <th>Perc</th>\n",
              "    </tr>\n",
              "    <tr>\n",
              "      <th>Date</th>\n",
              "      <th></th>\n",
              "      <th></th>\n",
              "      <th></th>\n",
              "      <th></th>\n",
              "      <th></th>\n",
              "      <th></th>\n",
              "      <th></th>\n",
              "    </tr>\n",
              "  </thead>\n",
              "  <tbody>\n",
              "    <tr>\n",
              "      <th>2017-07-03</th>\n",
              "      <td>69.599998</td>\n",
              "      <td>68.019997</td>\n",
              "      <td>69.330002</td>\n",
              "      <td>68.169998</td>\n",
              "      <td>16165500.0</td>\n",
              "      <td>65.577812</td>\n",
              "      <td>1.673163</td>\n",
              "    </tr>\n",
              "    <tr>\n",
              "      <th>2017-07-05</th>\n",
              "      <td>69.440002</td>\n",
              "      <td>68.220001</td>\n",
              "      <td>68.260002</td>\n",
              "      <td>69.080002</td>\n",
              "      <td>21176300.0</td>\n",
              "      <td>66.453201</td>\n",
              "      <td>-1.201289</td>\n",
              "    </tr>\n",
              "    <tr>\n",
              "      <th>2017-07-06</th>\n",
              "      <td>68.779999</td>\n",
              "      <td>68.120003</td>\n",
              "      <td>68.269997</td>\n",
              "      <td>68.570000</td>\n",
              "      <td>21117600.0</td>\n",
              "      <td>65.962593</td>\n",
              "      <td>-0.439436</td>\n",
              "    </tr>\n",
              "  </tbody>\n",
              "</table>\n",
              "</div>"
            ],
            "text/plain": [
              "                 High        Low       Open  ...      Volume  Adj Close      Perc\n",
              "Date                                         ...                                 \n",
              "2017-07-03  69.599998  68.019997  69.330002  ...  16165500.0  65.577812  1.673163\n",
              "2017-07-05  69.440002  68.220001  68.260002  ...  21176300.0  66.453201 -1.201289\n",
              "2017-07-06  68.779999  68.120003  68.269997  ...  21117600.0  65.962593 -0.439436\n",
              "\n",
              "[3 rows x 7 columns]"
            ]
          },
          "metadata": {
            "tags": []
          },
          "execution_count": 19
        }
      ]
    },
    {
      "cell_type": "code",
      "metadata": {
        "id": "Asy2JLg8qQ6N",
        "colab_type": "code",
        "outputId": "bffa1860-54cc-4225-d472-d212809290cd",
        "colab": {
          "base_uri": "https://localhost:8080/",
          "height": 175
        }
      },
      "source": [
        "df2.pct_change().head(3)"
      ],
      "execution_count": 20,
      "outputs": [
        {
          "output_type": "execute_result",
          "data": {
            "text/html": [
              "<div>\n",
              "<style scoped>\n",
              "    .dataframe tbody tr th:only-of-type {\n",
              "        vertical-align: middle;\n",
              "    }\n",
              "\n",
              "    .dataframe tbody tr th {\n",
              "        vertical-align: top;\n",
              "    }\n",
              "\n",
              "    .dataframe thead th {\n",
              "        text-align: right;\n",
              "    }\n",
              "</style>\n",
              "<table border=\"1\" class=\"dataframe\">\n",
              "  <thead>\n",
              "    <tr style=\"text-align: right;\">\n",
              "      <th></th>\n",
              "      <th>High</th>\n",
              "      <th>Low</th>\n",
              "      <th>Open</th>\n",
              "      <th>Close</th>\n",
              "      <th>Volume</th>\n",
              "      <th>Adj Close</th>\n",
              "      <th>Perc</th>\n",
              "    </tr>\n",
              "    <tr>\n",
              "      <th>Date</th>\n",
              "      <th></th>\n",
              "      <th></th>\n",
              "      <th></th>\n",
              "      <th></th>\n",
              "      <th></th>\n",
              "      <th></th>\n",
              "      <th></th>\n",
              "    </tr>\n",
              "  </thead>\n",
              "  <tbody>\n",
              "    <tr>\n",
              "      <th>2017-07-03</th>\n",
              "      <td>NaN</td>\n",
              "      <td>NaN</td>\n",
              "      <td>NaN</td>\n",
              "      <td>NaN</td>\n",
              "      <td>NaN</td>\n",
              "      <td>NaN</td>\n",
              "      <td>NaN</td>\n",
              "    </tr>\n",
              "    <tr>\n",
              "      <th>2017-07-05</th>\n",
              "      <td>-0.002299</td>\n",
              "      <td>0.002940</td>\n",
              "      <td>-0.015433</td>\n",
              "      <td>0.013349</td>\n",
              "      <td>0.309969</td>\n",
              "      <td>0.013349</td>\n",
              "      <td>-1.717975</td>\n",
              "    </tr>\n",
              "    <tr>\n",
              "      <th>2017-07-06</th>\n",
              "      <td>-0.009505</td>\n",
              "      <td>-0.001466</td>\n",
              "      <td>0.000146</td>\n",
              "      <td>-0.007383</td>\n",
              "      <td>-0.002772</td>\n",
              "      <td>-0.007383</td>\n",
              "      <td>-0.634196</td>\n",
              "    </tr>\n",
              "  </tbody>\n",
              "</table>\n",
              "</div>"
            ],
            "text/plain": [
              "                High       Low      Open  ...    Volume  Adj Close      Perc\n",
              "Date                                      ...                               \n",
              "2017-07-03       NaN       NaN       NaN  ...       NaN        NaN       NaN\n",
              "2017-07-05 -0.002299  0.002940 -0.015433  ...  0.309969   0.013349 -1.717975\n",
              "2017-07-06 -0.009505 -0.001466  0.000146  ... -0.002772  -0.007383 -0.634196\n",
              "\n",
              "[3 rows x 7 columns]"
            ]
          },
          "metadata": {
            "tags": []
          },
          "execution_count": 20
        }
      ]
    },
    {
      "cell_type": "code",
      "metadata": {
        "id": "32ON-S8jW6Np",
        "colab_type": "code",
        "outputId": "be457d56-53c7-4e36-8221-2cd4f5fa60ad",
        "colab": {
          "base_uri": "https://localhost:8080/",
          "height": 175
        }
      },
      "source": [
        "df2['perc low'] = ((df2['Low'] - df2['High'])/df2['Low'])*100\n",
        "df2.head(3)"
      ],
      "execution_count": 21,
      "outputs": [
        {
          "output_type": "execute_result",
          "data": {
            "text/html": [
              "<div>\n",
              "<style scoped>\n",
              "    .dataframe tbody tr th:only-of-type {\n",
              "        vertical-align: middle;\n",
              "    }\n",
              "\n",
              "    .dataframe tbody tr th {\n",
              "        vertical-align: top;\n",
              "    }\n",
              "\n",
              "    .dataframe thead th {\n",
              "        text-align: right;\n",
              "    }\n",
              "</style>\n",
              "<table border=\"1\" class=\"dataframe\">\n",
              "  <thead>\n",
              "    <tr style=\"text-align: right;\">\n",
              "      <th></th>\n",
              "      <th>High</th>\n",
              "      <th>Low</th>\n",
              "      <th>Open</th>\n",
              "      <th>Close</th>\n",
              "      <th>Volume</th>\n",
              "      <th>Adj Close</th>\n",
              "      <th>Perc</th>\n",
              "      <th>perc low</th>\n",
              "    </tr>\n",
              "    <tr>\n",
              "      <th>Date</th>\n",
              "      <th></th>\n",
              "      <th></th>\n",
              "      <th></th>\n",
              "      <th></th>\n",
              "      <th></th>\n",
              "      <th></th>\n",
              "      <th></th>\n",
              "      <th></th>\n",
              "    </tr>\n",
              "  </thead>\n",
              "  <tbody>\n",
              "    <tr>\n",
              "      <th>2017-07-03</th>\n",
              "      <td>69.599998</td>\n",
              "      <td>68.019997</td>\n",
              "      <td>69.330002</td>\n",
              "      <td>68.169998</td>\n",
              "      <td>16165500.0</td>\n",
              "      <td>65.577812</td>\n",
              "      <td>1.673163</td>\n",
              "      <td>-2.322849</td>\n",
              "    </tr>\n",
              "    <tr>\n",
              "      <th>2017-07-05</th>\n",
              "      <td>69.440002</td>\n",
              "      <td>68.220001</td>\n",
              "      <td>68.260002</td>\n",
              "      <td>69.080002</td>\n",
              "      <td>21176300.0</td>\n",
              "      <td>66.453201</td>\n",
              "      <td>-1.201289</td>\n",
              "      <td>-1.788334</td>\n",
              "    </tr>\n",
              "    <tr>\n",
              "      <th>2017-07-06</th>\n",
              "      <td>68.779999</td>\n",
              "      <td>68.120003</td>\n",
              "      <td>68.269997</td>\n",
              "      <td>68.570000</td>\n",
              "      <td>21117600.0</td>\n",
              "      <td>65.962593</td>\n",
              "      <td>-0.439436</td>\n",
              "      <td>-0.968873</td>\n",
              "    </tr>\n",
              "  </tbody>\n",
              "</table>\n",
              "</div>"
            ],
            "text/plain": [
              "                 High        Low       Open  ...  Adj Close      Perc  perc low\n",
              "Date                                         ...                               \n",
              "2017-07-03  69.599998  68.019997  69.330002  ...  65.577812  1.673163 -2.322849\n",
              "2017-07-05  69.440002  68.220001  68.260002  ...  66.453201 -1.201289 -1.788334\n",
              "2017-07-06  68.779999  68.120003  68.269997  ...  65.962593 -0.439436 -0.968873\n",
              "\n",
              "[3 rows x 8 columns]"
            ]
          },
          "metadata": {
            "tags": []
          },
          "execution_count": 21
        }
      ]
    },
    {
      "cell_type": "code",
      "metadata": {
        "id": "XCFnGivBa0cl",
        "colab_type": "code",
        "outputId": "cb2aacf9-326d-4ff4-f382-579c78e69b35",
        "colab": {
          "base_uri": "https://localhost:8080/",
          "height": 212
        }
      },
      "source": [
        "## 5 day rolling mean\n",
        "pchange = df2['Close'].pct_change(1)\n",
        "df2['avgclose 3'] =  pchange.rolling(5).mean()\n",
        "df2['stdclose 3'] = pchange.rolling(5).std()\n",
        "display(df2.head(3))\n",
        "\n",
        "## Dropping the nan values\n",
        "df2.dropna(inplace=True)"
      ],
      "execution_count": 22,
      "outputs": [
        {
          "output_type": "display_data",
          "data": {
            "text/html": [
              "<div>\n",
              "<style scoped>\n",
              "    .dataframe tbody tr th:only-of-type {\n",
              "        vertical-align: middle;\n",
              "    }\n",
              "\n",
              "    .dataframe tbody tr th {\n",
              "        vertical-align: top;\n",
              "    }\n",
              "\n",
              "    .dataframe thead th {\n",
              "        text-align: right;\n",
              "    }\n",
              "</style>\n",
              "<table border=\"1\" class=\"dataframe\">\n",
              "  <thead>\n",
              "    <tr style=\"text-align: right;\">\n",
              "      <th></th>\n",
              "      <th>High</th>\n",
              "      <th>Low</th>\n",
              "      <th>Open</th>\n",
              "      <th>Close</th>\n",
              "      <th>Volume</th>\n",
              "      <th>Adj Close</th>\n",
              "      <th>Perc</th>\n",
              "      <th>perc low</th>\n",
              "      <th>avgclose 3</th>\n",
              "      <th>stdclose 3</th>\n",
              "    </tr>\n",
              "    <tr>\n",
              "      <th>Date</th>\n",
              "      <th></th>\n",
              "      <th></th>\n",
              "      <th></th>\n",
              "      <th></th>\n",
              "      <th></th>\n",
              "      <th></th>\n",
              "      <th></th>\n",
              "      <th></th>\n",
              "      <th></th>\n",
              "      <th></th>\n",
              "    </tr>\n",
              "  </thead>\n",
              "  <tbody>\n",
              "    <tr>\n",
              "      <th>2017-07-03</th>\n",
              "      <td>69.599998</td>\n",
              "      <td>68.019997</td>\n",
              "      <td>69.330002</td>\n",
              "      <td>68.169998</td>\n",
              "      <td>16165500.0</td>\n",
              "      <td>65.577812</td>\n",
              "      <td>1.673163</td>\n",
              "      <td>-2.322849</td>\n",
              "      <td>NaN</td>\n",
              "      <td>NaN</td>\n",
              "    </tr>\n",
              "    <tr>\n",
              "      <th>2017-07-05</th>\n",
              "      <td>69.440002</td>\n",
              "      <td>68.220001</td>\n",
              "      <td>68.260002</td>\n",
              "      <td>69.080002</td>\n",
              "      <td>21176300.0</td>\n",
              "      <td>66.453201</td>\n",
              "      <td>-1.201289</td>\n",
              "      <td>-1.788334</td>\n",
              "      <td>NaN</td>\n",
              "      <td>NaN</td>\n",
              "    </tr>\n",
              "    <tr>\n",
              "      <th>2017-07-06</th>\n",
              "      <td>68.779999</td>\n",
              "      <td>68.120003</td>\n",
              "      <td>68.269997</td>\n",
              "      <td>68.570000</td>\n",
              "      <td>21117600.0</td>\n",
              "      <td>65.962593</td>\n",
              "      <td>-0.439436</td>\n",
              "      <td>-0.968873</td>\n",
              "      <td>NaN</td>\n",
              "      <td>NaN</td>\n",
              "    </tr>\n",
              "  </tbody>\n",
              "</table>\n",
              "</div>"
            ],
            "text/plain": [
              "                 High        Low       Open  ...  perc low  avgclose 3  stdclose 3\n",
              "Date                                         ...                                  \n",
              "2017-07-03  69.599998  68.019997  69.330002  ... -2.322849         NaN         NaN\n",
              "2017-07-05  69.440002  68.220001  68.260002  ... -1.788334         NaN         NaN\n",
              "2017-07-06  68.779999  68.120003  68.269997  ... -0.968873         NaN         NaN\n",
              "\n",
              "[3 rows x 10 columns]"
            ]
          },
          "metadata": {
            "tags": []
          }
        }
      ]
    },
    {
      "cell_type": "markdown",
      "metadata": {
        "id": "p90qsA6Gbakb",
        "colab_type": "text"
      },
      "source": [
        "Create a new column 'Action' whose values are:<br>\n",
        "<br>1 if next day's price(Close) is greater than present day's.\n",
        "<br>(-1) if next day's price(Close) is less than present day's.\n",
        "<br>i.e. Action [ i ] = 1 if Close[ i+1 ] > Close[ i ]\n",
        "<br>i.e. Action [ i ] = (-1) if Close[ i+1 ] < Close[ i ]"
      ]
    },
    {
      "cell_type": "code",
      "metadata": {
        "id": "7qCnSPibbLS1",
        "colab_type": "code",
        "outputId": "8550ecdc-90c4-442d-e2b7-079bd45bfc80",
        "colab": {
          "base_uri": "https://localhost:8080/",
          "height": 275
        }
      },
      "source": [
        "df2['Action'] = (df2['Close']>df2['Close'].shift(1))\n",
        "df2.head(5)"
      ],
      "execution_count": 23,
      "outputs": [
        {
          "output_type": "execute_result",
          "data": {
            "text/html": [
              "<div>\n",
              "<style scoped>\n",
              "    .dataframe tbody tr th:only-of-type {\n",
              "        vertical-align: middle;\n",
              "    }\n",
              "\n",
              "    .dataframe tbody tr th {\n",
              "        vertical-align: top;\n",
              "    }\n",
              "\n",
              "    .dataframe thead th {\n",
              "        text-align: right;\n",
              "    }\n",
              "</style>\n",
              "<table border=\"1\" class=\"dataframe\">\n",
              "  <thead>\n",
              "    <tr style=\"text-align: right;\">\n",
              "      <th></th>\n",
              "      <th>High</th>\n",
              "      <th>Low</th>\n",
              "      <th>Open</th>\n",
              "      <th>Close</th>\n",
              "      <th>Volume</th>\n",
              "      <th>Adj Close</th>\n",
              "      <th>Perc</th>\n",
              "      <th>perc low</th>\n",
              "      <th>avgclose 3</th>\n",
              "      <th>stdclose 3</th>\n",
              "      <th>Action</th>\n",
              "    </tr>\n",
              "    <tr>\n",
              "      <th>Date</th>\n",
              "      <th></th>\n",
              "      <th></th>\n",
              "      <th></th>\n",
              "      <th></th>\n",
              "      <th></th>\n",
              "      <th></th>\n",
              "      <th></th>\n",
              "      <th></th>\n",
              "      <th></th>\n",
              "      <th></th>\n",
              "      <th></th>\n",
              "    </tr>\n",
              "  </thead>\n",
              "  <tbody>\n",
              "    <tr>\n",
              "      <th>2017-07-11</th>\n",
              "      <td>70.680000</td>\n",
              "      <td>69.750000</td>\n",
              "      <td>70.000000</td>\n",
              "      <td>69.989998</td>\n",
              "      <td>17460000.0</td>\n",
              "      <td>67.328598</td>\n",
              "      <td>0.014289</td>\n",
              "      <td>-1.333334</td>\n",
              "      <td>0.005315</td>\n",
              "      <td>0.008888</td>\n",
              "      <td>False</td>\n",
              "    </tr>\n",
              "    <tr>\n",
              "      <th>2017-07-12</th>\n",
              "      <td>71.279999</td>\n",
              "      <td>70.550003</td>\n",
              "      <td>70.690002</td>\n",
              "      <td>71.150002</td>\n",
              "      <td>17750900.0</td>\n",
              "      <td>68.444496</td>\n",
              "      <td>-0.650727</td>\n",
              "      <td>-1.034721</td>\n",
              "      <td>0.005960</td>\n",
              "      <td>0.009697</td>\n",
              "      <td>True</td>\n",
              "    </tr>\n",
              "    <tr>\n",
              "      <th>2017-07-13</th>\n",
              "      <td>72.040001</td>\n",
              "      <td>71.309998</td>\n",
              "      <td>71.500000</td>\n",
              "      <td>71.769997</td>\n",
              "      <td>20269800.0</td>\n",
              "      <td>69.040909</td>\n",
              "      <td>-0.377618</td>\n",
              "      <td>-1.023704</td>\n",
              "      <td>0.009179</td>\n",
              "      <td>0.006202</td>\n",
              "      <td>True</td>\n",
              "    </tr>\n",
              "    <tr>\n",
              "      <th>2017-07-14</th>\n",
              "      <td>73.269997</td>\n",
              "      <td>71.959999</td>\n",
              "      <td>72.239998</td>\n",
              "      <td>72.779999</td>\n",
              "      <td>25868100.0</td>\n",
              "      <td>70.012505</td>\n",
              "      <td>-0.747510</td>\n",
              "      <td>-1.820452</td>\n",
              "      <td>0.009398</td>\n",
              "      <td>0.006386</td>\n",
              "      <td>True</td>\n",
              "    </tr>\n",
              "    <tr>\n",
              "      <th>2017-07-17</th>\n",
              "      <td>73.449997</td>\n",
              "      <td>72.720001</td>\n",
              "      <td>72.800003</td>\n",
              "      <td>73.349998</td>\n",
              "      <td>21803900.0</td>\n",
              "      <td>70.560837</td>\n",
              "      <td>-0.755488</td>\n",
              "      <td>-1.003844</td>\n",
              "      <td>0.009467</td>\n",
              "      <td>0.006362</td>\n",
              "      <td>True</td>\n",
              "    </tr>\n",
              "  </tbody>\n",
              "</table>\n",
              "</div>"
            ],
            "text/plain": [
              "                 High        Low       Open  ...  avgclose 3  stdclose 3  Action\n",
              "Date                                         ...                                \n",
              "2017-07-11  70.680000  69.750000  70.000000  ...    0.005315    0.008888   False\n",
              "2017-07-12  71.279999  70.550003  70.690002  ...    0.005960    0.009697    True\n",
              "2017-07-13  72.040001  71.309998  71.500000  ...    0.009179    0.006202    True\n",
              "2017-07-14  73.269997  71.959999  72.239998  ...    0.009398    0.006386    True\n",
              "2017-07-17  73.449997  72.720001  72.800003  ...    0.009467    0.006362    True\n",
              "\n",
              "[5 rows x 11 columns]"
            ]
          },
          "metadata": {
            "tags": []
          },
          "execution_count": 23
        }
      ]
    },
    {
      "cell_type": "code",
      "metadata": {
        "id": "hvTIRy3sboAE",
        "colab_type": "code",
        "outputId": "46d0e1ba-7402-4bba-dbf5-03a566cece91",
        "colab": {
          "base_uri": "https://localhost:8080/",
          "height": 212
        }
      },
      "source": [
        "\n",
        "conditions = [df2['Action'] == True,\n",
        "              df2['Action'] == False\n",
        "]\n",
        "choices =[\n",
        "           '1',\n",
        "           '-1'\n",
        "]\n",
        "\n",
        "\n",
        "df2['Action'] = np.select(conditions, choices)\n",
        "df2.head(3)\n"
      ],
      "execution_count": 24,
      "outputs": [
        {
          "output_type": "execute_result",
          "data": {
            "text/html": [
              "<div>\n",
              "<style scoped>\n",
              "    .dataframe tbody tr th:only-of-type {\n",
              "        vertical-align: middle;\n",
              "    }\n",
              "\n",
              "    .dataframe tbody tr th {\n",
              "        vertical-align: top;\n",
              "    }\n",
              "\n",
              "    .dataframe thead th {\n",
              "        text-align: right;\n",
              "    }\n",
              "</style>\n",
              "<table border=\"1\" class=\"dataframe\">\n",
              "  <thead>\n",
              "    <tr style=\"text-align: right;\">\n",
              "      <th></th>\n",
              "      <th>High</th>\n",
              "      <th>Low</th>\n",
              "      <th>Open</th>\n",
              "      <th>Close</th>\n",
              "      <th>Volume</th>\n",
              "      <th>Adj Close</th>\n",
              "      <th>Perc</th>\n",
              "      <th>perc low</th>\n",
              "      <th>avgclose 3</th>\n",
              "      <th>stdclose 3</th>\n",
              "      <th>Action</th>\n",
              "    </tr>\n",
              "    <tr>\n",
              "      <th>Date</th>\n",
              "      <th></th>\n",
              "      <th></th>\n",
              "      <th></th>\n",
              "      <th></th>\n",
              "      <th></th>\n",
              "      <th></th>\n",
              "      <th></th>\n",
              "      <th></th>\n",
              "      <th></th>\n",
              "      <th></th>\n",
              "      <th></th>\n",
              "    </tr>\n",
              "  </thead>\n",
              "  <tbody>\n",
              "    <tr>\n",
              "      <th>2017-07-11</th>\n",
              "      <td>70.680000</td>\n",
              "      <td>69.750000</td>\n",
              "      <td>70.000000</td>\n",
              "      <td>69.989998</td>\n",
              "      <td>17460000.0</td>\n",
              "      <td>67.328598</td>\n",
              "      <td>0.014289</td>\n",
              "      <td>-1.333334</td>\n",
              "      <td>0.005315</td>\n",
              "      <td>0.008888</td>\n",
              "      <td>-1</td>\n",
              "    </tr>\n",
              "    <tr>\n",
              "      <th>2017-07-12</th>\n",
              "      <td>71.279999</td>\n",
              "      <td>70.550003</td>\n",
              "      <td>70.690002</td>\n",
              "      <td>71.150002</td>\n",
              "      <td>17750900.0</td>\n",
              "      <td>68.444496</td>\n",
              "      <td>-0.650727</td>\n",
              "      <td>-1.034721</td>\n",
              "      <td>0.005960</td>\n",
              "      <td>0.009697</td>\n",
              "      <td>1</td>\n",
              "    </tr>\n",
              "    <tr>\n",
              "      <th>2017-07-13</th>\n",
              "      <td>72.040001</td>\n",
              "      <td>71.309998</td>\n",
              "      <td>71.500000</td>\n",
              "      <td>71.769997</td>\n",
              "      <td>20269800.0</td>\n",
              "      <td>69.040909</td>\n",
              "      <td>-0.377618</td>\n",
              "      <td>-1.023704</td>\n",
              "      <td>0.009179</td>\n",
              "      <td>0.006202</td>\n",
              "      <td>1</td>\n",
              "    </tr>\n",
              "  </tbody>\n",
              "</table>\n",
              "</div>"
            ],
            "text/plain": [
              "                 High        Low       Open  ...  avgclose 3  stdclose 3  Action\n",
              "Date                                         ...                                \n",
              "2017-07-11  70.680000  69.750000  70.000000  ...    0.005315    0.008888      -1\n",
              "2017-07-12  71.279999  70.550003  70.690002  ...    0.005960    0.009697       1\n",
              "2017-07-13  72.040001  71.309998  71.500000  ...    0.009179    0.006202       1\n",
              "\n",
              "[3 rows x 11 columns]"
            ]
          },
          "metadata": {
            "tags": []
          },
          "execution_count": 24
        }
      ]
    },
    {
      "cell_type": "markdown",
      "metadata": {
        "id": "9-yO_NAIcBcW",
        "colab_type": "text"
      },
      "source": [
        "## Constructing a classification model with the 4 new inputs and 'Action' as target"
      ]
    },
    {
      "cell_type": "code",
      "metadata": {
        "id": "8dQvTV9eb37j",
        "colab_type": "code",
        "outputId": "e01d1d8c-5dcb-4732-f03a-59c2852b3f7b",
        "colab": {
          "base_uri": "https://localhost:8080/",
          "height": 212
        }
      },
      "source": [
        "## Dropping the nan values\n",
        "\n",
        "df2.dropna(inplace=True)\n",
        "df2.head(3)"
      ],
      "execution_count": 25,
      "outputs": [
        {
          "output_type": "execute_result",
          "data": {
            "text/html": [
              "<div>\n",
              "<style scoped>\n",
              "    .dataframe tbody tr th:only-of-type {\n",
              "        vertical-align: middle;\n",
              "    }\n",
              "\n",
              "    .dataframe tbody tr th {\n",
              "        vertical-align: top;\n",
              "    }\n",
              "\n",
              "    .dataframe thead th {\n",
              "        text-align: right;\n",
              "    }\n",
              "</style>\n",
              "<table border=\"1\" class=\"dataframe\">\n",
              "  <thead>\n",
              "    <tr style=\"text-align: right;\">\n",
              "      <th></th>\n",
              "      <th>High</th>\n",
              "      <th>Low</th>\n",
              "      <th>Open</th>\n",
              "      <th>Close</th>\n",
              "      <th>Volume</th>\n",
              "      <th>Adj Close</th>\n",
              "      <th>Perc</th>\n",
              "      <th>perc low</th>\n",
              "      <th>avgclose 3</th>\n",
              "      <th>stdclose 3</th>\n",
              "      <th>Action</th>\n",
              "    </tr>\n",
              "    <tr>\n",
              "      <th>Date</th>\n",
              "      <th></th>\n",
              "      <th></th>\n",
              "      <th></th>\n",
              "      <th></th>\n",
              "      <th></th>\n",
              "      <th></th>\n",
              "      <th></th>\n",
              "      <th></th>\n",
              "      <th></th>\n",
              "      <th></th>\n",
              "      <th></th>\n",
              "    </tr>\n",
              "  </thead>\n",
              "  <tbody>\n",
              "    <tr>\n",
              "      <th>2017-07-11</th>\n",
              "      <td>70.680000</td>\n",
              "      <td>69.750000</td>\n",
              "      <td>70.000000</td>\n",
              "      <td>69.989998</td>\n",
              "      <td>17460000.0</td>\n",
              "      <td>67.328598</td>\n",
              "      <td>0.014289</td>\n",
              "      <td>-1.333334</td>\n",
              "      <td>0.005315</td>\n",
              "      <td>0.008888</td>\n",
              "      <td>-1</td>\n",
              "    </tr>\n",
              "    <tr>\n",
              "      <th>2017-07-12</th>\n",
              "      <td>71.279999</td>\n",
              "      <td>70.550003</td>\n",
              "      <td>70.690002</td>\n",
              "      <td>71.150002</td>\n",
              "      <td>17750900.0</td>\n",
              "      <td>68.444496</td>\n",
              "      <td>-0.650727</td>\n",
              "      <td>-1.034721</td>\n",
              "      <td>0.005960</td>\n",
              "      <td>0.009697</td>\n",
              "      <td>1</td>\n",
              "    </tr>\n",
              "    <tr>\n",
              "      <th>2017-07-13</th>\n",
              "      <td>72.040001</td>\n",
              "      <td>71.309998</td>\n",
              "      <td>71.500000</td>\n",
              "      <td>71.769997</td>\n",
              "      <td>20269800.0</td>\n",
              "      <td>69.040909</td>\n",
              "      <td>-0.377618</td>\n",
              "      <td>-1.023704</td>\n",
              "      <td>0.009179</td>\n",
              "      <td>0.006202</td>\n",
              "      <td>1</td>\n",
              "    </tr>\n",
              "  </tbody>\n",
              "</table>\n",
              "</div>"
            ],
            "text/plain": [
              "                 High        Low       Open  ...  avgclose 3  stdclose 3  Action\n",
              "Date                                         ...                                \n",
              "2017-07-11  70.680000  69.750000  70.000000  ...    0.005315    0.008888      -1\n",
              "2017-07-12  71.279999  70.550003  70.690002  ...    0.005960    0.009697       1\n",
              "2017-07-13  72.040001  71.309998  71.500000  ...    0.009179    0.006202       1\n",
              "\n",
              "[3 rows x 11 columns]"
            ]
          },
          "metadata": {
            "tags": []
          },
          "execution_count": 25
        }
      ]
    },
    {
      "cell_type": "code",
      "metadata": {
        "id": "cf7TzEF3cHL1",
        "colab_type": "code",
        "colab": {
          "base_uri": "https://localhost:8080/",
          "height": 106
        },
        "outputId": "b5ee0d8e-1137-4899-9bf7-aa540d2ba410"
      },
      "source": [
        "Xf = df2[['Perc' , 'perc low', 'avgclose 3' , 'stdclose 3']].values\n",
        "yf = df2['Action'].values\n",
        "\n",
        "from sklearn.model_selection import train_test_split\n",
        "X_train , X_test , y_train , y_test  = train_test_split(Xf,yf,test_size=0.25)\n",
        "\n",
        "from sklearn.ensemble import RandomForestClassifier\n",
        "randomForest = RandomForestClassifier()\n",
        "randomForest.fit(X_train,y_train)\n",
        "\n",
        "y_pred = randomForest.predict(X_test)\n",
        "\n",
        "cmf  = confusion_matrix(y_test,y_pred)\n",
        "cmf"
      ],
      "execution_count": 26,
      "outputs": [
        {
          "output_type": "stream",
          "text": [
            "/usr/local/lib/python3.6/dist-packages/sklearn/ensemble/forest.py:245: FutureWarning: The default value of n_estimators will change from 10 in version 0.20 to 100 in 0.22.\n",
            "  \"10 in version 0.20 to 100 in 0.22.\", FutureWarning)\n"
          ],
          "name": "stderr"
        },
        {
          "output_type": "execute_result",
          "data": {
            "text/plain": [
              "array([[46, 15],\n",
              "       [11, 53]])"
            ]
          },
          "metadata": {
            "tags": []
          },
          "execution_count": 26
        }
      ]
    },
    {
      "cell_type": "code",
      "metadata": {
        "id": "__UayjPQcd_4",
        "colab_type": "code",
        "colab": {
          "base_uri": "https://localhost:8080/",
          "height": 173
        },
        "outputId": "ec04ddc2-fe6f-4886-e452-148585460168"
      },
      "source": [
        "cr3 = classification_report(y_test,y_pred)\n",
        "print(cr3)"
      ],
      "execution_count": 27,
      "outputs": [
        {
          "output_type": "stream",
          "text": [
            "              precision    recall  f1-score   support\n",
            "\n",
            "          -1       0.81      0.75      0.78        61\n",
            "           1       0.78      0.83      0.80        64\n",
            "\n",
            "    accuracy                           0.79       125\n",
            "   macro avg       0.79      0.79      0.79       125\n",
            "weighted avg       0.79      0.79      0.79       125\n",
            "\n"
          ],
          "name": "stdout"
        }
      ]
    },
    {
      "cell_type": "code",
      "metadata": {
        "id": "aOPwYa1BdXBK",
        "colab_type": "code",
        "colab": {
          "base_uri": "https://localhost:8080/",
          "height": 416
        },
        "outputId": "e68ae4f6-571b-47ea-e183-e150dfad35e8"
      },
      "source": [
        "y = df2['Perc'].cumsum()\n",
        "x = df2.index\n",
        "\n",
        "import matplotlib.pyplot as plt\n",
        "plt.plot(x,y)"
      ],
      "execution_count": 28,
      "outputs": [
        {
          "output_type": "stream",
          "text": [
            "/usr/local/lib/python3.6/dist-packages/pandas/plotting/_converter.py:129: FutureWarning: Using an implicitly registered datetime converter for a matplotlib plotting method. The converter was registered by pandas on import. Future versions of pandas will require you to explicitly register matplotlib converters.\n",
            "\n",
            "To register the converters:\n",
            "\t>>> from pandas.plotting import register_matplotlib_converters\n",
            "\t>>> register_matplotlib_converters()\n",
            "  warnings.warn(msg, FutureWarning)\n"
          ],
          "name": "stderr"
        },
        {
          "output_type": "execute_result",
          "data": {
            "text/plain": [
              "[<matplotlib.lines.Line2D at 0x7f739e214d68>]"
            ]
          },
          "metadata": {
            "tags": []
          },
          "execution_count": 28
        },
        {
          "output_type": "display_data",
          "data": {
            "image/png": "[encoded data removed]",
            "text/plain": [
              "<Figure size 432x288 with 1 Axes>"
            ]
          },
          "metadata": {
            "tags": []
          }
        }
      ]
    }
  ]
}