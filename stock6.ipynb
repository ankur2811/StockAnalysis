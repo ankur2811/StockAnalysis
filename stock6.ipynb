{
  "nbformat": 4,
  "nbformat_minor": 0,
  "metadata": {
    "colab": {
      "name": "stock6.ipynb",
      "version": "0.3.2",
      "provenance": [],
      "include_colab_link": true
    },
    "kernelspec": {
      "name": "python3",
      "display_name": "Python 3"
    }
  },
  "cells": [
    {
      "cell_type": "markdown",
      "metadata": {
        "id": "view-in-github",
        "colab_type": "text"
      },
      "source": [
        "<a href=\"https://colab.research.google.com/github/mechamrit/StockAnalysis/blob/master/stock6.ipynb\" target=\"_parent\"><img src=\"https://colab.research.google.com/assets/colab-badge.svg\" alt=\"Open In Colab\"/></a>"
      ]
    },
    {
      "cell_type": "markdown",
      "metadata": {
        "id": "7uPjlhY2sVWG",
        "colab_type": "text"
      },
      "source": [
        "# Clustering for Diversification analysis\n",
        "Clustering is a method of unsupervised learning and is a common technique for statistical data analysis used in many fields. "
      ]
    },
    {
      "cell_type": "code",
      "metadata": {
        "id": "gTUbDlmNsUy_",
        "colab_type": "code",
        "colab": {}
      },
      "source": [
        "## Importing the Lib\n",
        "import numpy as np\n",
        "import pandas as pd\n",
        "import os\n",
        "import pandas_datareader.data as pdr\n",
        "from datetime import datetime , timedelta"
      ],
      "execution_count": 0,
      "outputs": []
    },
    {
      "cell_type": "code",
      "metadata": {
        "id": "ij0g8cbXr0bz",
        "colab_type": "code",
        "colab": {
          "base_uri": "https://localhost:8080/",
          "height": 258
        },
        "outputId": "9d269898-3114-4a5c-b002-d4950a8d493a"
      },
      "source": [
        "start = datetime(2018,5,5) \n",
        "end  = datetime(2019,5,5)\n",
        "\n",
        "df1 = pdr.DataReader(['AMRS','AKTS','PTPF','ABIL','ICLK','GOOG','AAPL','MSFT','NCS','YRD','VXX','INDA','IEFA','ITB'], 'yahoo', start, end)\n",
        "df2 = df1.Close\n",
        "df2.head(5)"
      ],
      "execution_count": 12,
      "outputs": [
        {
          "output_type": "execute_result",
          "data": {
            "text/html": [
              "<div>\n",
              "<style scoped>\n",
              "    .dataframe tbody tr th:only-of-type {\n",
              "        vertical-align: middle;\n",
              "    }\n",
              "\n",
              "    .dataframe tbody tr th {\n",
              "        vertical-align: top;\n",
              "    }\n",
              "\n",
              "    .dataframe thead th {\n",
              "        text-align: right;\n",
              "    }\n",
              "</style>\n",
              "<table border=\"1\" class=\"dataframe\">\n",
              "  <thead>\n",
              "    <tr style=\"text-align: right;\">\n",
              "      <th>Symbols</th>\n",
              "      <th>AAPL</th>\n",
              "      <th>ABIL</th>\n",
              "      <th>AKTS</th>\n",
              "      <th>AMRS</th>\n",
              "      <th>GOOG</th>\n",
              "      <th>ICLK</th>\n",
              "      <th>IEFA</th>\n",
              "      <th>INDA</th>\n",
              "      <th>ITB</th>\n",
              "      <th>MSFT</th>\n",
              "      <th>NCS</th>\n",
              "      <th>PTPF</th>\n",
              "      <th>VXX</th>\n",
              "      <th>YRD</th>\n",
              "    </tr>\n",
              "    <tr>\n",
              "      <th>Date</th>\n",
              "      <th></th>\n",
              "      <th></th>\n",
              "      <th></th>\n",
              "      <th></th>\n",
              "      <th></th>\n",
              "      <th></th>\n",
              "      <th></th>\n",
              "      <th></th>\n",
              "      <th></th>\n",
              "      <th></th>\n",
              "      <th></th>\n",
              "      <th></th>\n",
              "      <th></th>\n",
              "      <th></th>\n",
              "    </tr>\n",
              "  </thead>\n",
              "  <tbody>\n",
              "    <tr>\n",
              "      <th>2018-05-07</th>\n",
              "      <td>185.160004</td>\n",
              "      <td>2.590</td>\n",
              "      <td>5.72</td>\n",
              "      <td>6.43</td>\n",
              "      <td>1054.790039</td>\n",
              "      <td>7.53</td>\n",
              "      <td>66.940002</td>\n",
              "      <td>34.250000</td>\n",
              "      <td>39.150002</td>\n",
              "      <td>96.220001</td>\n",
              "      <td>18.150000</td>\n",
              "      <td>0.0120</td>\n",
              "      <td>39.750000</td>\n",
              "      <td>30.090000</td>\n",
              "    </tr>\n",
              "    <tr>\n",
              "      <th>2018-05-08</th>\n",
              "      <td>186.050003</td>\n",
              "      <td>2.842</td>\n",
              "      <td>5.69</td>\n",
              "      <td>5.97</td>\n",
              "      <td>1053.910034</td>\n",
              "      <td>7.40</td>\n",
              "      <td>66.959999</td>\n",
              "      <td>34.139999</td>\n",
              "      <td>39.310001</td>\n",
              "      <td>95.809998</td>\n",
              "      <td>18.350000</td>\n",
              "      <td>0.0085</td>\n",
              "      <td>39.750000</td>\n",
              "      <td>29.870001</td>\n",
              "    </tr>\n",
              "    <tr>\n",
              "      <th>2018-05-09</th>\n",
              "      <td>187.360001</td>\n",
              "      <td>2.710</td>\n",
              "      <td>5.93</td>\n",
              "      <td>5.71</td>\n",
              "      <td>1082.760010</td>\n",
              "      <td>7.32</td>\n",
              "      <td>67.099998</td>\n",
              "      <td>34.209999</td>\n",
              "      <td>38.590000</td>\n",
              "      <td>96.940002</td>\n",
              "      <td>18.500000</td>\n",
              "      <td>0.0199</td>\n",
              "      <td>38.790001</td>\n",
              "      <td>30.870001</td>\n",
              "    </tr>\n",
              "    <tr>\n",
              "      <th>2018-05-10</th>\n",
              "      <td>190.039993</td>\n",
              "      <td>2.770</td>\n",
              "      <td>5.92</td>\n",
              "      <td>5.83</td>\n",
              "      <td>1097.569946</td>\n",
              "      <td>7.25</td>\n",
              "      <td>67.500000</td>\n",
              "      <td>34.349998</td>\n",
              "      <td>38.759998</td>\n",
              "      <td>97.910004</td>\n",
              "      <td>18.549999</td>\n",
              "      <td>0.0199</td>\n",
              "      <td>36.709999</td>\n",
              "      <td>30.969999</td>\n",
              "    </tr>\n",
              "    <tr>\n",
              "      <th>2018-05-11</th>\n",
              "      <td>188.589996</td>\n",
              "      <td>2.750</td>\n",
              "      <td>6.81</td>\n",
              "      <td>5.84</td>\n",
              "      <td>1098.260010</td>\n",
              "      <td>7.65</td>\n",
              "      <td>67.709999</td>\n",
              "      <td>34.160000</td>\n",
              "      <td>38.970001</td>\n",
              "      <td>97.699997</td>\n",
              "      <td>18.500000</td>\n",
              "      <td>0.0199</td>\n",
              "      <td>35.830002</td>\n",
              "      <td>30.780001</td>\n",
              "    </tr>\n",
              "  </tbody>\n",
              "</table>\n",
              "</div>"
            ],
            "text/plain": [
              "Symbols           AAPL   ABIL  AKTS  ...    PTPF        VXX        YRD\n",
              "Date                                 ...                              \n",
              "2018-05-07  185.160004  2.590  5.72  ...  0.0120  39.750000  30.090000\n",
              "2018-05-08  186.050003  2.842  5.69  ...  0.0085  39.750000  29.870001\n",
              "2018-05-09  187.360001  2.710  5.93  ...  0.0199  38.790001  30.870001\n",
              "2018-05-10  190.039993  2.770  5.92  ...  0.0199  36.709999  30.969999\n",
              "2018-05-11  188.589996  2.750  6.81  ...  0.0199  35.830002  30.780001\n",
              "\n",
              "[5 rows x 14 columns]"
            ]
          },
          "metadata": {
            "tags": []
          },
          "execution_count": 12
        }
      ]
    },
    {
      "cell_type": "markdown",
      "metadata": {
        "id": "LU4HCu1azdm5",
        "colab_type": "text"
      },
      "source": [
        "Calculating average annual percentage return and volatility of all stocks over a theoretical one year period"
      ]
    },
    {
      "cell_type": "code",
      "metadata": {
        "id": "Xmh9f-S2ym6b",
        "colab_type": "code",
        "colab": {
          "base_uri": "https://localhost:8080/",
          "height": 520
        },
        "outputId": "c05bbf7d-1a03-4169-f32b-5dbe0c15347b"
      },
      "source": [
        "returns = df2.pct_change().mean() *252\n",
        "returns = pd.DataFrame(returns)\n",
        "returns.columns = ['Return']\n",
        "returns['Volatility'] = df2.pct_change().std() * np.sqrt(252)\n",
        "returns"
      ],
      "execution_count": 13,
      "outputs": [
        {
          "output_type": "execute_result",
          "data": {
            "text/html": [
              "<div>\n",
              "<style scoped>\n",
              "    .dataframe tbody tr th:only-of-type {\n",
              "        vertical-align: middle;\n",
              "    }\n",
              "\n",
              "    .dataframe tbody tr th {\n",
              "        vertical-align: top;\n",
              "    }\n",
              "\n",
              "    .dataframe thead th {\n",
              "        text-align: right;\n",
              "    }\n",
              "</style>\n",
              "<table border=\"1\" class=\"dataframe\">\n",
              "  <thead>\n",
              "    <tr style=\"text-align: right;\">\n",
              "      <th></th>\n",
              "      <th>Return</th>\n",
              "      <th>Volatility</th>\n",
              "    </tr>\n",
              "    <tr>\n",
              "      <th>Symbols</th>\n",
              "      <th></th>\n",
              "      <th></th>\n",
              "    </tr>\n",
              "  </thead>\n",
              "  <tbody>\n",
              "    <tr>\n",
              "      <th>AAPL</th>\n",
              "      <td>0.179621</td>\n",
              "      <td>0.295538</td>\n",
              "    </tr>\n",
              "    <tr>\n",
              "      <th>ABIL</th>\n",
              "      <td>1.597892</td>\n",
              "      <td>2.509981</td>\n",
              "    </tr>\n",
              "    <tr>\n",
              "      <th>AKTS</th>\n",
              "      <td>0.317023</td>\n",
              "      <td>0.648140</td>\n",
              "    </tr>\n",
              "    <tr>\n",
              "      <th>AMRS</th>\n",
              "      <td>0.449997</td>\n",
              "      <td>1.245566</td>\n",
              "    </tr>\n",
              "    <tr>\n",
              "      <th>GOOG</th>\n",
              "      <td>0.153221</td>\n",
              "      <td>0.264798</td>\n",
              "    </tr>\n",
              "    <tr>\n",
              "      <th>ICLK</th>\n",
              "      <td>-0.469903</td>\n",
              "      <td>0.637923</td>\n",
              "    </tr>\n",
              "    <tr>\n",
              "      <th>IEFA</th>\n",
              "      <td>-0.056853</td>\n",
              "      <td>0.133383</td>\n",
              "    </tr>\n",
              "    <tr>\n",
              "      <th>INDA</th>\n",
              "      <td>0.058989</td>\n",
              "      <td>0.202472</td>\n",
              "    </tr>\n",
              "    <tr>\n",
              "      <th>ITB</th>\n",
              "      <td>0.012040</td>\n",
              "      <td>0.225622</td>\n",
              "    </tr>\n",
              "    <tr>\n",
              "      <th>MSFT</th>\n",
              "      <td>0.328194</td>\n",
              "      <td>0.254016</td>\n",
              "    </tr>\n",
              "    <tr>\n",
              "      <th>NCS</th>\n",
              "      <td>-1.016286</td>\n",
              "      <td>0.468116</td>\n",
              "    </tr>\n",
              "    <tr>\n",
              "      <th>PTPF</th>\n",
              "      <td>1.477428</td>\n",
              "      <td>2.377461</td>\n",
              "    </tr>\n",
              "    <tr>\n",
              "      <th>VXX</th>\n",
              "      <td>-0.282824</td>\n",
              "      <td>0.590723</td>\n",
              "    </tr>\n",
              "    <tr>\n",
              "      <th>YRD</th>\n",
              "      <td>-0.325984</td>\n",
              "      <td>0.724715</td>\n",
              "    </tr>\n",
              "  </tbody>\n",
              "</table>\n",
              "</div>"
            ],
            "text/plain": [
              "           Return  Volatility\n",
              "Symbols                      \n",
              "AAPL     0.179621    0.295538\n",
              "ABIL     1.597892    2.509981\n",
              "AKTS     0.317023    0.648140\n",
              "AMRS     0.449997    1.245566\n",
              "GOOG     0.153221    0.264798\n",
              "ICLK    -0.469903    0.637923\n",
              "IEFA    -0.056853    0.133383\n",
              "INDA     0.058989    0.202472\n",
              "ITB      0.012040    0.225622\n",
              "MSFT     0.328194    0.254016\n",
              "NCS     -1.016286    0.468116\n",
              "PTPF     1.477428    2.377461\n",
              "VXX     -0.282824    0.590723\n",
              "YRD     -0.325984    0.724715"
            ]
          },
          "metadata": {
            "tags": []
          },
          "execution_count": 13
        }
      ]
    },
    {
      "cell_type": "markdown",
      "metadata": {
        "id": "aNt_D0kozu1d",
        "colab_type": "text"
      },
      "source": [
        " Cluster the stocks according to their mean annual Volatilities and Returns using K-means clustering. Identify the optimum number of clusters using the Elbow curve method "
      ]
    },
    {
      "cell_type": "code",
      "metadata": {
        "id": "l4d21DkbzXAZ",
        "colab_type": "code",
        "colab": {
          "base_uri": "https://localhost:8080/",
          "height": 260
        },
        "outputId": "be4211a2-c204-4172-ecbb-b5da888f2e8b"
      },
      "source": [
        "#format the data as a numpy array to feed into the K-Means algorithm\n",
        "data = np.asarray([np.asarray(returns['Return']),np.asarray(returns['Volatility'])]).T\n",
        "data"
      ],
      "execution_count": 16,
      "outputs": [
        {
          "output_type": "execute_result",
          "data": {
            "text/plain": [
              "array([[ 0.17962143,  0.29553801],\n",
              "       [ 1.5978922 ,  2.50998066],\n",
              "       [ 0.3170228 ,  0.6481399 ],\n",
              "       [ 0.44999682,  1.24556646],\n",
              "       [ 0.15322093,  0.2647979 ],\n",
              "       [-0.46990329,  0.63792347],\n",
              "       [-0.0568531 ,  0.1333831 ],\n",
              "       [ 0.05898867,  0.20247194],\n",
              "       [ 0.01204016,  0.22562162],\n",
              "       [ 0.32819399,  0.25401578],\n",
              "       [-1.01628571,  0.46811628],\n",
              "       [ 1.47742785,  2.37746083],\n",
              "       [-0.2828242 ,  0.59072271],\n",
              "       [-0.32598403,  0.72471467]])"
            ]
          },
          "metadata": {
            "tags": []
          },
          "execution_count": 16
        }
      ]
    },
    {
      "cell_type": "code",
      "metadata": {
        "id": "5EpLxST8z1uS",
        "colab_type": "code",
        "colab": {
          "base_uri": "https://localhost:8080/",
          "height": 353
        },
        "outputId": "1acb45bf-be46-43fe-c056-a599d0dd48cb"
      },
      "source": [
        "from sklearn.cluster import KMeans\n",
        "import matplotlib.pyplot as plt\n",
        "X = data\n",
        "distorsions = []\n",
        "for k in range(1, 15):\n",
        "    k_means = KMeans(n_clusters=k)\n",
        "    k_means.fit(X)\n",
        "    distorsions.append(k_means.inertia_)\n",
        "fig = plt.figure(figsize=(15, 5))\n",
        "plt.plot(range(1, 15), distorsions)\n",
        "plt.grid(True)\n",
        "plt.title('Elbow curve')"
      ],
      "execution_count": 19,
      "outputs": [
        {
          "output_type": "execute_result",
          "data": {
            "text/plain": [
              "Text(0.5, 1.0, 'Elbow curve')"
            ]
          },
          "metadata": {
            "tags": []
          },
          "execution_count": 19
        },
        {
          "output_type": "display_data",
          "data": {
            "image/png": "[encoded data removed]",
            "text/plain": [
              "<Figure size 1080x360 with 1 Axes>"
            ]
          },
          "metadata": {
            "tags": []
          }
        }
      ]
    },
    {
      "cell_type": "code",
      "metadata": {
        "id": "b0TWTELo0BLE",
        "colab_type": "code",
        "colab": {
          "base_uri": "https://localhost:8080/",
          "height": 269
        },
        "outputId": "d932ba60-a2ef-46b4-aa98-6f5bd5fe4b9e"
      },
      "source": [
        "from pylab import plot,show\n",
        "from scipy.cluster.vq import kmeans,vq\n",
        "\n",
        "centroids,_ = kmeans(data,3)\n",
        "idx,_ = vq(data,centroids)\n",
        "plot(data[idx==0,0],data[idx==0,1],'ob',\n",
        "    data[idx==1,0],data[idx==1,1],'oy',\n",
        "    data[idx==2,0],data[idx==2,1],'or')\n",
        "plot(centroids[:,0],centroids[:,1],'sg',markersize=8)\n",
        "show()"
      ],
      "execution_count": 21,
      "outputs": [
        {
          "output_type": "display_data",
          "data": {
            "image/png": "[encoded data removed]",
            "text/plain": [
              "<Figure size 432x288 with 1 Axes>"
            ]
          },
          "metadata": {
            "tags": []
          }
        }
      ]
    },
    {
      "cell_type": "code",
      "metadata": {
        "id": "xyfjpG880NWI",
        "colab_type": "code",
        "colab": {
          "base_uri": "https://localhost:8080/",
          "height": 69
        },
        "outputId": "7bfece0c-bbc5-4850-bb31-fb289d5f21b5"
      },
      "source": [
        "#identify the outlier\n",
        "print(returns.idxmax())"
      ],
      "execution_count": 22,
      "outputs": [
        {
          "output_type": "stream",
          "text": [
            "Return        ABIL\n",
            "Volatility    ABIL\n",
            "dtype: object\n"
          ],
          "name": "stdout"
        }
      ]
    },
    {
      "cell_type": "code",
      "metadata": {
        "id": "9U_JTi0d0UoK",
        "colab_type": "code",
        "colab": {}
      },
      "source": [
        "returns.drop('ABIL',inplace=True)\n",
        "data = np.asarray([np.asarray(returns['Return']),np.asarray(returns['Volatility'])]).T"
      ],
      "execution_count": 0,
      "outputs": []
    },
    {
      "cell_type": "code",
      "metadata": {
        "id": "37qt6ugV0Zoh",
        "colab_type": "code",
        "colab": {
          "base_uri": "https://localhost:8080/",
          "height": 269
        },
        "outputId": "8f8ce50f-2097-44fa-d827-5c280fbf4de3"
      },
      "source": [
        "centroids,_ = kmeans(data,5)\n",
        "idx,_ = vq(data,centroids)\n",
        "plot(data[idx==0,0],data[idx==0,1],'ob',\n",
        "    data[idx==1,0],data[idx==1,1],'oy',\n",
        "    data[idx==2,0],data[idx==2,1],'or')\n",
        "plot(centroids[:,0],centroids[:,1],'sg',markersize=8)\n",
        "show()"
      ],
      "execution_count": 24,
      "outputs": [
        {
          "output_type": "display_data",
          "data": {
            "image/png": "[encoded data removed]",
            "text/plain": [
              "<Figure size 432x288 with 1 Axes>"
            ]
          },
          "metadata": {
            "tags": []
          }
        }
      ]
    },
    {
      "cell_type": "code",
      "metadata": {
        "id": "FLYISw7h0ckj",
        "colab_type": "code",
        "colab": {
          "base_uri": "https://localhost:8080/",
          "height": 69
        },
        "outputId": "7ac4b085-8d94-4273-8e09-88c7c44c8c17"
      },
      "source": [
        "#identify the outlier\n",
        "print(returns.idxmax())"
      ],
      "execution_count": 25,
      "outputs": [
        {
          "output_type": "stream",
          "text": [
            "Return        PTPF\n",
            "Volatility    PTPF\n",
            "dtype: object\n"
          ],
          "name": "stdout"
        }
      ]
    },
    {
      "cell_type": "code",
      "metadata": {
        "id": "thzGyGSx0iO0",
        "colab_type": "code",
        "colab": {}
      },
      "source": [
        "returns.drop('PTPF',inplace=True)\n",
        "data = np.asarray([np.asarray(returns['Return']),np.asarray(returns['Volatility'])]).T"
      ],
      "execution_count": 0,
      "outputs": []
    },
    {
      "cell_type": "code",
      "metadata": {
        "id": "QysVyzbz0mJS",
        "colab_type": "code",
        "colab": {
          "base_uri": "https://localhost:8080/",
          "height": 269
        },
        "outputId": "d238be5f-ae4b-47bf-b5dc-0044808b0ce1"
      },
      "source": [
        "centroids,_ = kmeans(data,3)\n",
        "idx,_ = vq(data,centroids)    \n",
        "plot(data[idx==0,0],data[idx==0,1],'ob',\n",
        "    data[idx==1,0],data[idx==1,1],'oy',\n",
        "    data[idx==2,0],data[idx==2,1],'or')\n",
        "plot(centroids[:,0],centroids[:,1],'sg',markersize=8)\n",
        "show()"
      ],
      "execution_count": 27,
      "outputs": [
        {
          "output_type": "display_data",
          "data": {
            "image/png": "[encoded data removed]",
            "text/plain": [
              "<Figure size 432x288 with 1 Axes>"
            ]
          },
          "metadata": {
            "tags": []
          }
        }
      ]
    },
    {
      "cell_type": "code",
      "metadata": {
        "id": "hj2UQ52X0n9x",
        "colab_type": "code",
        "colab": {
          "base_uri": "https://localhost:8080/",
          "height": 69
        },
        "outputId": "513d6c2d-7697-4e50-efbe-3b26994f09a7"
      },
      "source": [
        "#identify the outlier\n",
        "print(returns.idxmax())"
      ],
      "execution_count": 28,
      "outputs": [
        {
          "output_type": "stream",
          "text": [
            "Return        AMRS\n",
            "Volatility    AMRS\n",
            "dtype: object\n"
          ],
          "name": "stdout"
        }
      ]
    },
    {
      "cell_type": "code",
      "metadata": {
        "id": "biuQBaf90q_t",
        "colab_type": "code",
        "colab": {}
      },
      "source": [
        "returns.drop('AMRS',inplace=True)\n",
        "data = np.asarray([np.asarray(returns['Return']),np.asarray(returns['Volatility'])]).T"
      ],
      "execution_count": 0,
      "outputs": []
    },
    {
      "cell_type": "code",
      "metadata": {
        "id": "aWH3p4Ph0uRh",
        "colab_type": "code",
        "colab": {
          "base_uri": "https://localhost:8080/",
          "height": 269
        },
        "outputId": "1a50e9bb-82d2-4abb-cd5e-35e48346cb77"
      },
      "source": [
        "centroids,_ = kmeans(data,3)\n",
        "idx,_ = vq(data,centroids)    \n",
        "plot(data[idx==0,0],data[idx==0,1],'ob',\n",
        "    data[idx==1,0],data[idx==1,1],'oy',\n",
        "    data[idx==2,0],data[idx==2,1],'or')\n",
        "plot(centroids[:,0],centroids[:,1],'sg',markersize=8)\n",
        "show()"
      ],
      "execution_count": 30,
      "outputs": [
        {
          "output_type": "display_data",
          "data": {
            "image/png": "[encoded data removed]",
            "text/plain": [
              "<Figure size 432x288 with 1 Axes>"
            ]
          },
          "metadata": {
            "tags": []
          }
        }
      ]
    },
    {
      "cell_type": "code",
      "metadata": {
        "id": "qK3097RH0vzz",
        "colab_type": "code",
        "colab": {
          "base_uri": "https://localhost:8080/",
          "height": 208
        },
        "outputId": "a55eb252-d480-427c-b75f-528a2a482c30"
      },
      "source": [
        "details = [(name,cluster) for name, cluster in zip(returns.index,idx)]\n",
        "for detail in details:\n",
        "    print(detail)"
      ],
      "execution_count": 31,
      "outputs": [
        {
          "output_type": "stream",
          "text": [
            "('AAPL', 2)\n",
            "('AKTS', 2)\n",
            "('GOOG', 2)\n",
            "('ICLK', 0)\n",
            "('IEFA', 2)\n",
            "('INDA', 2)\n",
            "('ITB', 2)\n",
            "('MSFT', 2)\n",
            "('NCS', 1)\n",
            "('VXX', 0)\n",
            "('YRD', 0)\n"
          ],
          "name": "stdout"
        }
      ]
    },
    {
      "cell_type": "code",
      "metadata": {
        "id": "R4f1GVS20y68",
        "colab_type": "code",
        "colab": {}
      },
      "source": [
        ""
      ],
      "execution_count": 0,
      "outputs": []
    }
  ]
}