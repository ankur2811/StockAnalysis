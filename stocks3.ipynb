{
  "nbformat": 4,
  "nbformat_minor": 0,
  "metadata": {
    "colab": {
      "name": "stocks3.ipynb",
      "version": "0.3.2",
      "provenance": [],
      "collapsed_sections": [],
      "toc_visible": true,
      "include_colab_link": true
    },
    "kernelspec": {
      "name": "python3",
      "display_name": "Python 3"
    }
  },
  "cells": [
    {
      "cell_type": "markdown",
      "metadata": {
        "id": "view-in-github",
        "colab_type": "text"
      },
      "source": [
        "<a href=\"https://colab.research.google.com/github/mechamrit/StockAnalysis/blob/master/stocks3.ipynb\" target=\"_parent\"><img src=\"https://colab.research.google.com/assets/colab-badge.svg\" alt=\"Open In Colab\"/></a>"
      ]
    },
    {
      "cell_type": "markdown",
      "metadata": {
        "id": "zYZhWhjRMd5m",
        "colab_type": "text"
      },
      "source": [
        "# Module 3\n",
        "In this module we will use linear Regeression. "
      ]
    },
    {
      "cell_type": "code",
      "metadata": {
        "id": "GCUPL1uyMMu3",
        "colab_type": "code",
        "colab": {}
      },
      "source": [
        "## Importing the Libraries\n",
        "\n",
        "import pandas as pd  \n",
        "import numpy as np  \n",
        "import matplotlib.pyplot as plt  \n",
        "import seaborn as sns \n",
        "from sklearn.model_selection import train_test_split \n",
        "from sklearn.linear_model import LinearRegression\n",
        "%matplotlib inline\n",
        "from sklearn.metrics import mean_squared_error, r2_score\n",
        "from sklearn.preprocessing import PolynomialFeatures\n",
        "import pandas_datareader.data as pdr\n",
        "from datetime import datetime,timedelta"
      ],
      "execution_count": 0,
      "outputs": []
    },
    {
      "cell_type": "code",
      "metadata": {
        "id": "9xA8zqOAFSmB",
        "colab_type": "code",
        "colab": {}
      },
      "source": [
        "## Importing file gold.csv\n",
        "## Go to this link to download the file https://drive.google.com/open?id=1ELlWFcIhN8Hjl44sD6CMqtnqIHIs-1Bi\n",
        "## Upload the file\n",
        "from google.colab import files\n",
        "uploaded = files.upload()"
      ],
      "execution_count": 0,
      "outputs": []
    },
    {
      "cell_type": "markdown",
      "metadata": {
        "id": "IpuV8iazIr_x",
        "colab_type": "text"
      },
      "source": [
        "This file  contains the data of the last 2 years price action of Indian (MCX) gold standard and have two columns pred and new where one of the column is partially filled use regressors to fill the missing values and also one of the column is polynomial combinationn of OHCL i.e. open,high,close,low prices. So lets deal with this."
      ]
    },
    {
      "cell_type": "code",
      "metadata": {
        "id": "M7UiJY2PIEwm",
        "colab_type": "code",
        "colab": {}
      },
      "source": [
        "df = pd.read_csv('GOLD.csv',parse_dates=True,index_col=0)\n",
        "df.head(3)"
      ],
      "execution_count": 0,
      "outputs": []
    },
    {
      "cell_type": "code",
      "metadata": {
        "id": "K_6qadPuIZQT",
        "colab_type": "code",
        "colab": {}
      },
      "source": [
        "%matplotlib inline\n",
        "df.Price.plot()"
      ],
      "execution_count": 0,
      "outputs": []
    },
    {
      "cell_type": "code",
      "metadata": {
        "id": "KWGzKpn5Jh8a",
        "colab_type": "code",
        "colab": {}
      },
      "source": [
        "## Lets have a scatter plot of both the columns that we have to work upon\n",
        "fig= plt.figure(figsize=(10,3))\n",
        "axes= fig.add_axes([1,1,1,1])\n",
        "axes.scatter(x=df.index,y=df.Pred)"
      ],
      "execution_count": 0,
      "outputs": []
    },
    {
      "cell_type": "code",
      "metadata": {
        "id": "pgaDNmBSKMZc",
        "colab_type": "code",
        "colab": {}
      },
      "source": [
        "fig= plt.figure(figsize=(10,3))\n",
        "axes= fig.add_axes([1,1,1,1])\n",
        "axes.scatter(x=df.index,y=df.new)"
      ],
      "execution_count": 0,
      "outputs": []
    },
    {
      "cell_type": "code",
      "metadata": {
        "id": "nnTeyFg9KXNf",
        "colab_type": "code",
        "colab": {}
      },
      "source": [
        "## Checking Pred for null values\n",
        "predNull = df[df.Pred.isnull()]\n",
        "prednonNull = df[~df.Pred.isnull()]\n",
        "display(prednonNull.head(3),predNull.head(3))"
      ],
      "execution_count": 0,
      "outputs": []
    },
    {
      "cell_type": "markdown",
      "metadata": {
        "id": "lcS9yDGqUAbw",
        "colab_type": "text"
      },
      "source": [
        "### Training for the 'pred' Column"
      ]
    },
    {
      "cell_type": "code",
      "metadata": {
        "id": "6qQnG92dK4WJ",
        "colab_type": "code",
        "outputId": "56125a29-915b-4f39-a27c-8423ca11f94a",
        "colab": {
          "base_uri": "https://localhost:8080/",
          "height": 86
        }
      },
      "source": [
        "## Assigning the Values for Training\n",
        "X = prednonNull[['Price','Open','High','Low']]\n",
        "y = prednonNull.Pred\n",
        "\n",
        "## Now splitting the data for training and evaluation\n",
        "X_train, X_test, y_train, y_test = train_test_split(X, y, test_size=0.2, random_state=32)\n",
        "\n",
        "## Now Applying Linear Model \n",
        "model = LinearRegression()\n",
        "model.fit(X_train,y_train)\n",
        "\n",
        "# Predict\n",
        "y_predicted = model.predict(X_test)\n",
        "\n",
        "\n",
        "rmse = mean_squared_error(y_test, y_predicted)\n",
        "r2 = r2_score(y_test, y_predicted)\n",
        "\n",
        "# printing values\n",
        "print('Slope:' ,model.coef_)\n",
        "print('Intercept:', model.intercept_)\n",
        "print('Root mean squared error: ', rmse*100)\n",
        "print('R2 score: ', r2)"
      ],
      "execution_count": 0,
      "outputs": [
        {
          "output_type": "stream",
          "text": [
            "Slope: [ 2.  3. -1. -4.]\n",
            "Intercept: 2.05773176276125e-11\n",
            "Root mean squared error:  5.90188384040847e-21\n",
            "R2 score:  1.0\n"
          ],
          "name": "stdout"
        }
      ]
    },
    {
      "cell_type": "code",
      "metadata": {
        "id": "tFx2ymLZNhbt",
        "colab_type": "code",
        "outputId": "30278e65-115d-4a93-91f2-630e3115611a",
        "colab": {
          "base_uri": "https://localhost:8080/",
          "height": 286
        }
      },
      "source": [
        "a = pd.DataFrame(y_predicted)\n",
        "# data points\n",
        "\n",
        "fig , ax = plt.subplots()\n",
        "ax.plot(y_test.index ,a.values ,'o')\n",
        "ax.plot(y_test.index ,y_test.values ,'x')\n",
        "plt.plot()\n",
        "\n",
        "\n",
        "## We can see that approx every value is overlapping therefore almost same."
      ],
      "execution_count": 0,
      "outputs": [
        {
          "output_type": "execute_result",
          "data": {
            "text/plain": [
              "[]"
            ]
          },
          "metadata": {
            "tags": []
          },
          "execution_count": 97
        },
        {
          "output_type": "display_data",
          "data": {
            "image/png": "[encoded data removed]",
            "text/plain": [
              "<Figure size 432x288 with 1 Axes>"
            ]
          },
          "metadata": {
            "tags": []
          }
        }
      ]
    },
    {
      "cell_type": "code",
      "metadata": {
        "id": "zVQhkr_iNqj5",
        "colab_type": "code",
        "outputId": "705d194a-2dfd-4ad8-d776-933397944a01",
        "colab": {
          "base_uri": "https://localhost:8080/",
          "height": 34
        }
      },
      "source": [
        "### PREDICTING THE VALUE\n",
        "\n",
        "xpredict = df[['Price','Open','High','Low']]\n",
        "ypredict = model.predict(xpredict)\n",
        "df.Pred = ypredict\n",
        "df.isnull().values.any()\n"
      ],
      "execution_count": 0,
      "outputs": [
        {
          "output_type": "execute_result",
          "data": {
            "text/plain": [
              "False"
            ]
          },
          "metadata": {
            "tags": []
          },
          "execution_count": 101
        }
      ]
    },
    {
      "cell_type": "markdown",
      "metadata": {
        "id": "qIpnxO97T0eT",
        "colab_type": "text"
      },
      "source": [
        "## Training for the 'new' column"
      ]
    },
    {
      "cell_type": "markdown",
      "metadata": {
        "id": "7FbCgNkjUKJL",
        "colab_type": "text"
      },
      "source": [
        "### Using linear regression"
      ]
    },
    {
      "cell_type": "code",
      "metadata": {
        "id": "Yj4I90F7Pcl6",
        "colab_type": "code",
        "colab": {}
      },
      "source": [
        "## Now lets train model for new column\n",
        "## Assigning the values we have\n",
        "\n",
        "x1 = df[['Price','Open','High','Low']]\n",
        "y1 = df.new\n",
        "\n",
        "X1_train, X1_test, y1_train, y1_test = train_test_split(x1, y1, test_size=0.2, random_state=32)\n",
        "\n",
        "model1 = LinearRegression()\n",
        "model1.fit(X1_train,y1_train)\n",
        "\n",
        "y1predict = model1.predict(X1_test)\n",
        "\n",
        "# model evaluation\n",
        "rmse1 = mean_squared_error(y1_test, y1predict)\n",
        "r21 = r2_score(y1_test, y1predict)\n",
        "\n",
        "# printing values\n",
        "print('Slope:' ,model1.coef_)\n",
        "print('Intercept:', model1.intercept_)\n",
        "print('Root mean squared error: ', rmse1*100)\n",
        "print('R2 score: ', r21)"
      ],
      "execution_count": 0,
      "outputs": []
    },
    {
      "cell_type": "markdown",
      "metadata": {
        "id": "Zh-LsTsQRaiw",
        "colab_type": "text"
      },
      "source": [
        "### Using Polynomial Features\n",
        "Lower the rmse Value better the fit is \n",
        "But we got 20% which is not optimum so we will try polynomial "
      ]
    },
    {
      "cell_type": "code",
      "metadata": {
        "id": "RVjVsGklQ7pc",
        "colab_type": "code",
        "outputId": "f5028156-985a-4f1f-c8ce-e948a67bb689",
        "colab": {
          "base_uri": "https://localhost:8080/",
          "height": 139
        }
      },
      "source": [
        "polynomial_features= PolynomialFeatures(degree=2)\n",
        "x_poly_train = polynomial_features.fit_transform(X1_train)\n",
        "x_poly_test = polynomial_features.fit_transform(X1_test)\n",
        "model3 = LinearRegression()\n",
        "model3.fit(x_poly_train, y1_train)\n",
        "y_poly_pred = model3.predict(x_poly_test)\n",
        "\n",
        "rmse2 = np.sqrt(mean_squared_error(y1_test,y_poly_pred))\n",
        "r22 = r2_score(y1_test,y_poly_pred)\n",
        "# printing values\n",
        "print('Slope:' ,model3.coef_)\n",
        "print('Intercept:', model3.intercept_)\n",
        "print('Root mean squared error: ', rmse2*100)\n",
        "print('R2 score: ', r22)"
      ],
      "execution_count": 0,
      "outputs": [
        {
          "output_type": "stream",
          "text": [
            "Slope: [ 0.00000000e+00  1.01130808e+00 -1.00044090e+00  1.00481408e+00\n",
            " -1.01574695e+00  1.67967817e-07 -1.15633457e-06  3.28375419e-05\n",
            " -3.23847148e-05 -5.50020408e-07  8.27571032e-07  1.44559470e-06\n",
            " -1.84659417e-07 -3.34556920e-05  3.24545467e-05]\n",
            "Intercept: 0.3302450695405241\n",
            "Root mean squared error:  1.6030630889781325\n",
            "R2 score:  0.9999999929540891\n"
          ],
          "name": "stdout"
        }
      ]
    },
    {
      "cell_type": "markdown",
      "metadata": {
        "id": "4SeJ3MvMSaT1",
        "colab_type": "text"
      },
      "source": [
        "As we can see that RMSE is only 1.6% which is quite good so our model is working fine."
      ]
    },
    {
      "cell_type": "markdown",
      "metadata": {
        "id": "BNsL_GJzOisO",
        "colab_type": "text"
      },
      "source": [
        "##[CAPM](https://www.investopedia.com/terms/c/capm.asp)\n",
        "Analysis and Beta Calculation using regression -</br>\n",
        "CAPM(Capital Asset Pricing Model) attempts to price securities by examining the relationship that exists between expected returns and risk.</br></br>\n",
        "The Beta of an asset is a measure of the sensitivity of its returns relative to a market benchmark (usually a market index). How sensitive/insensitive is the returns of an asset to the overall market returns (usually a market index like S&P 500 index)."
      ]
    },
    {
      "cell_type": "markdown",
      "metadata": {
        "id": "ohfg2FRuQWST",
        "colab_type": "text"
      },
      "source": [
        "For india its NIFTY for NSE and Sensex for BSE. Here we will use S&P 500"
      ]
    },
    {
      "cell_type": "code",
      "metadata": {
        "id": "MPadoc6mSFVL",
        "colab_type": "code",
        "colab": {
          "base_uri": "https://localhost:8080/",
          "height": 175
        },
        "outputId": "c8a7ece7-aa8c-4020-d251-d15f64fa0a85"
      },
      "source": [
        "## Lets load the stock data\n",
        "## We will load the five stocks in dataframe\n",
        "##datetime(year, month, day[, hour[, minute[, second[, microsecond[,tzinfo]]]]])\n",
        "start = datetime(2018 , 7 ,1)\n",
        "end = datetime(2019, 7 , 1)\n",
        "\n",
        "## Reading data and saving only Close Price in other data frame.\n",
        "data = pdr.DataReader(['NVDA','^GSPC'],'yahoo',start,end)\n",
        "db = data.Close\n",
        "db.head(3)"
      ],
      "execution_count": 5,
      "outputs": [
        {
          "output_type": "execute_result",
          "data": {
            "text/html": [
              "<div>\n",
              "<style scoped>\n",
              "    .dataframe tbody tr th:only-of-type {\n",
              "        vertical-align: middle;\n",
              "    }\n",
              "\n",
              "    .dataframe tbody tr th {\n",
              "        vertical-align: top;\n",
              "    }\n",
              "\n",
              "    .dataframe thead th {\n",
              "        text-align: right;\n",
              "    }\n",
              "</style>\n",
              "<table border=\"1\" class=\"dataframe\">\n",
              "  <thead>\n",
              "    <tr style=\"text-align: right;\">\n",
              "      <th>Symbols</th>\n",
              "      <th>NVDA</th>\n",
              "      <th>^GSPC</th>\n",
              "    </tr>\n",
              "    <tr>\n",
              "      <th>Date</th>\n",
              "      <th></th>\n",
              "      <th></th>\n",
              "    </tr>\n",
              "  </thead>\n",
              "  <tbody>\n",
              "    <tr>\n",
              "      <th>2018-07-02</th>\n",
              "      <td>242.240005</td>\n",
              "      <td>2726.709961</td>\n",
              "    </tr>\n",
              "    <tr>\n",
              "      <th>2018-07-03</th>\n",
              "      <td>236.839996</td>\n",
              "      <td>2713.219971</td>\n",
              "    </tr>\n",
              "    <tr>\n",
              "      <th>2018-07-05</th>\n",
              "      <td>242.729996</td>\n",
              "      <td>2736.610107</td>\n",
              "    </tr>\n",
              "  </tbody>\n",
              "</table>\n",
              "</div>"
            ],
            "text/plain": [
              "Symbols           NVDA        ^GSPC\n",
              "Date                               \n",
              "2018-07-02  242.240005  2726.709961\n",
              "2018-07-03  236.839996  2713.219971\n",
              "2018-07-05  242.729996  2736.610107"
            ]
          },
          "metadata": {
            "tags": []
          },
          "execution_count": 5
        }
      ]
    },
    {
      "cell_type": "code",
      "metadata": {
        "id": "-uH96x1uRs82",
        "colab_type": "code",
        "colab": {
          "base_uri": "https://localhost:8080/",
          "height": 34
        },
        "outputId": "901da2d4-1330-4c9b-f3d5-b0080ee186bc"
      },
      "source": [
        "## Checking the null values \n",
        "db.isnull().values.any()\n",
        "\n",
        "## Else we can drop or replace values by mean or other stats method"
      ],
      "execution_count": 7,
      "outputs": [
        {
          "output_type": "execute_result",
          "data": {
            "text/plain": [
              "False"
            ]
          },
          "metadata": {
            "tags": []
          },
          "execution_count": 7
        }
      ]
    },
    {
      "cell_type": "markdown",
      "metadata": {
        "id": "84Gj8pFQSVm-",
        "colab_type": "text"
      },
      "source": [
        "### Using Stats Model API"
      ]
    },
    {
      "cell_type": "code",
      "metadata": {
        "id": "YEjmvPlQSHyR",
        "colab_type": "code",
        "colab": {
          "base_uri": "https://localhost:8080/",
          "height": 210
        },
        "outputId": "462ce0cd-5383-4d56-da9d-dfe84293a548"
      },
      "source": [
        "import statsmodels.api as sm\n",
        "\n",
        "\n",
        "## Calculating Date For Past Three Months\n",
        "# today = datetime.now()\n",
        "# past = today - timedelta(days=90)\n",
        "# past\n",
        "## This is the code if we have updated data but we do not have \n",
        "## Note: --Therefore i will use the last value as the today\n",
        "today = db.index.max()\n",
        "past = today - timedelta(days=90)\n",
        "mon3 = db[past:today]\n",
        "display(today,past,mon3.head(3))"
      ],
      "execution_count": 10,
      "outputs": [
        {
          "output_type": "display_data",
          "data": {
            "text/plain": [
              "Timestamp('2019-07-01 00:00:00')"
            ]
          },
          "metadata": {
            "tags": []
          }
        },
        {
          "output_type": "display_data",
          "data": {
            "text/plain": [
              "Timestamp('2019-04-02 00:00:00')"
            ]
          },
          "metadata": {
            "tags": []
          }
        },
        {
          "output_type": "display_data",
          "data": {
            "text/html": [
              "<div>\n",
              "<style scoped>\n",
              "    .dataframe tbody tr th:only-of-type {\n",
              "        vertical-align: middle;\n",
              "    }\n",
              "\n",
              "    .dataframe tbody tr th {\n",
              "        vertical-align: top;\n",
              "    }\n",
              "\n",
              "    .dataframe thead th {\n",
              "        text-align: right;\n",
              "    }\n",
              "</style>\n",
              "<table border=\"1\" class=\"dataframe\">\n",
              "  <thead>\n",
              "    <tr style=\"text-align: right;\">\n",
              "      <th>Symbols</th>\n",
              "      <th>NVDA</th>\n",
              "      <th>^GSPC</th>\n",
              "    </tr>\n",
              "    <tr>\n",
              "      <th>Date</th>\n",
              "      <th></th>\n",
              "      <th></th>\n",
              "    </tr>\n",
              "  </thead>\n",
              "  <tbody>\n",
              "    <tr>\n",
              "      <th>2019-04-02</th>\n",
              "      <td>183.000000</td>\n",
              "      <td>2867.239990</td>\n",
              "    </tr>\n",
              "    <tr>\n",
              "      <th>2019-04-03</th>\n",
              "      <td>188.619995</td>\n",
              "      <td>2873.399902</td>\n",
              "    </tr>\n",
              "    <tr>\n",
              "      <th>2019-04-04</th>\n",
              "      <td>188.259995</td>\n",
              "      <td>2879.389893</td>\n",
              "    </tr>\n",
              "  </tbody>\n",
              "</table>\n",
              "</div>"
            ],
            "text/plain": [
              "Symbols           NVDA        ^GSPC\n",
              "Date                               \n",
              "2019-04-02  183.000000  2867.239990\n",
              "2019-04-03  188.619995  2873.399902\n",
              "2019-04-04  188.259995  2879.389893"
            ]
          },
          "metadata": {
            "tags": []
          }
        }
      ]
    },
    {
      "cell_type": "code",
      "metadata": {
        "id": "_baByKziSvxn",
        "colab_type": "code",
        "colab": {
          "base_uri": "https://localhost:8080/",
          "height": 238
        },
        "outputId": "daa07d29-506c-4af1-ccc8-6bd382a91bde"
      },
      "source": [
        "## Calculating the Daily Returns\n",
        "return_daily = mon3.pct_change(1)\n",
        "return_daily.columns=['NVDA','^GSPC']\n",
        "return_daily.dropna(inplace=True)\n",
        "return_daily.head(5)"
      ],
      "execution_count": 11,
      "outputs": [
        {
          "output_type": "execute_result",
          "data": {
            "text/html": [
              "<div>\n",
              "<style scoped>\n",
              "    .dataframe tbody tr th:only-of-type {\n",
              "        vertical-align: middle;\n",
              "    }\n",
              "\n",
              "    .dataframe tbody tr th {\n",
              "        vertical-align: top;\n",
              "    }\n",
              "\n",
              "    .dataframe thead th {\n",
              "        text-align: right;\n",
              "    }\n",
              "</style>\n",
              "<table border=\"1\" class=\"dataframe\">\n",
              "  <thead>\n",
              "    <tr style=\"text-align: right;\">\n",
              "      <th></th>\n",
              "      <th>NVDA</th>\n",
              "      <th>^GSPC</th>\n",
              "    </tr>\n",
              "    <tr>\n",
              "      <th>Date</th>\n",
              "      <th></th>\n",
              "      <th></th>\n",
              "    </tr>\n",
              "  </thead>\n",
              "  <tbody>\n",
              "    <tr>\n",
              "      <th>2019-04-03</th>\n",
              "      <td>0.030710</td>\n",
              "      <td>0.002148</td>\n",
              "    </tr>\n",
              "    <tr>\n",
              "      <th>2019-04-04</th>\n",
              "      <td>-0.001909</td>\n",
              "      <td>0.002085</td>\n",
              "    </tr>\n",
              "    <tr>\n",
              "      <th>2019-04-05</th>\n",
              "      <td>0.014289</td>\n",
              "      <td>0.004636</td>\n",
              "    </tr>\n",
              "    <tr>\n",
              "      <th>2019-04-08</th>\n",
              "      <td>0.004399</td>\n",
              "      <td>0.001047</td>\n",
              "    </tr>\n",
              "    <tr>\n",
              "      <th>2019-04-09</th>\n",
              "      <td>-0.013192</td>\n",
              "      <td>-0.006067</td>\n",
              "    </tr>\n",
              "  </tbody>\n",
              "</table>\n",
              "</div>"
            ],
            "text/plain": [
              "                NVDA     ^GSPC\n",
              "Date                          \n",
              "2019-04-03  0.030710  0.002148\n",
              "2019-04-04 -0.001909  0.002085\n",
              "2019-04-05  0.014289  0.004636\n",
              "2019-04-08  0.004399  0.001047\n",
              "2019-04-09 -0.013192 -0.006067"
            ]
          },
          "metadata": {
            "tags": []
          },
          "execution_count": 11
        }
      ]
    },
    {
      "cell_type": "code",
      "metadata": {
        "id": "sj_btKBNTIP9",
        "colab_type": "code",
        "colab": {
          "base_uri": "https://localhost:8080/",
          "height": 558
        },
        "outputId": "dd6b057c-9877-4f95-c020-67b068165b3e"
      },
      "source": [
        "x = return_daily.NVDA\n",
        "y = return_daily['^GSPC']\n",
        "\n",
        "## Applying the Model\n",
        "x1 = sm.add_constant(x)\n",
        "\n",
        "\n",
        "## Regression Model\n",
        "model = sm.OLS(y,x1)\n",
        "\n",
        "results = model.fit()\n",
        "print(results.summary())\n",
        "print('Beta for our model is',results.params)\n"
      ],
      "execution_count": 14,
      "outputs": [
        {
          "output_type": "stream",
          "text": [
            "                            OLS Regression Results                            \n",
            "==============================================================================\n",
            "Dep. Variable:                  ^GSPC   R-squared:                       0.444\n",
            "Model:                            OLS   Adj. R-squared:                  0.435\n",
            "Method:                 Least Squares   F-statistic:                     47.96\n",
            "Date:                Thu, 22 Aug 2019   Prob (F-statistic):           3.36e-09\n",
            "Time:                        17:09:54   Log-Likelihood:                 236.49\n",
            "No. Observations:                  62   AIC:                            -469.0\n",
            "Df Residuals:                      60   BIC:                            -464.7\n",
            "Df Model:                           1                                         \n",
            "Covariance Type:            nonrobust                                         \n",
            "==============================================================================\n",
            "                 coef    std err          t      P>|t|      [0.025      0.975]\n",
            "------------------------------------------------------------------------------\n",
            "const          0.0008      0.001      1.208      0.232      -0.001       0.002\n",
            "NVDA           0.2088      0.030      6.925      0.000       0.148       0.269\n",
            "==============================================================================\n",
            "Omnibus:                        0.169   Durbin-Watson:                   1.717\n",
            "Prob(Omnibus):                  0.919   Jarque-Bera (JB):                0.032\n",
            "Skew:                          -0.055   Prob(JB):                        0.984\n",
            "Kurtosis:                       2.986   Cond. No.                         43.8\n",
            "==============================================================================\n",
            "\n",
            "Warnings:\n",
            "[1] Standard Errors assume that the covariance matrix of the errors is correctly specified.\n",
            "Beta for our model is const    0.000833\n",
            "NVDA     0.208803\n",
            "dtype: float64\n"
          ],
          "name": "stdout"
        },
        {
          "output_type": "stream",
          "text": [
            "/usr/local/lib/python3.6/dist-packages/numpy/core/fromnumeric.py:2389: FutureWarning: Method .ptp is deprecated and will be removed in a future version. Use numpy.ptp instead.\n",
            "  return ptp(axis=axis, out=out, **kwargs)\n"
          ],
          "name": "stderr"
        }
      ]
    },
    {
      "cell_type": "code",
      "metadata": {
        "id": "8j2xbaBdTUno",
        "colab_type": "code",
        "colab": {
          "base_uri": "https://localhost:8080/",
          "height": 593
        },
        "outputId": "4288a744-9de4-4210-c41f-a52977f45c3d"
      },
      "source": [
        "## Calculating Monthly Beta value\n",
        "\n",
        "## This Method is deprecated \n",
        "# g = db.resample('M',how='mean')\n",
        "\n",
        "## Therefore we will use the Grouper with group_by \n",
        "monval = db.groupby(pd.Grouper(freq='M')).mean()\n",
        "monval.columns = ['NVDA','^GSPC']\n",
        "\n",
        "\n",
        "## Now using linear OMS\n",
        "month_return = monval.pct_change()\n",
        "month_return.dropna(inplace=True)\n",
        "month_return.head(3)\n",
        "\n",
        "\n",
        "x2 = month_return.NVDA\n",
        "y2 = month_return['^GSPC']\n",
        "\n",
        "\n",
        "x3 = sm.add_constant(x2)\n",
        "model1 = sm.OLS(y2 , x3)\n",
        "result = model1.fit()\n",
        "\n",
        "print(result.summary())\n",
        "print('The Beta is ' , result.params)"
      ],
      "execution_count": 20,
      "outputs": [
        {
          "output_type": "stream",
          "text": [
            "                            OLS Regression Results                            \n",
            "==============================================================================\n",
            "Dep. Variable:                  ^GSPC   R-squared:                       0.728\n",
            "Model:                            OLS   Adj. R-squared:                  0.701\n",
            "Method:                 Least Squares   F-statistic:                     26.77\n",
            "Date:                Thu, 22 Aug 2019   Prob (F-statistic):           0.000417\n",
            "Time:                        17:15:52   Log-Likelihood:                 32.278\n",
            "No. Observations:                  12   AIC:                            -60.56\n",
            "Df Residuals:                      10   BIC:                            -59.59\n",
            "Df Model:                           1                                         \n",
            "Covariance Type:            nonrobust                                         \n",
            "==============================================================================\n",
            "                 coef    std err          t      P>|t|      [0.025      0.975]\n",
            "------------------------------------------------------------------------------\n",
            "const          0.0110      0.005      2.076      0.065      -0.001       0.023\n",
            "NVDA           0.2216      0.043      5.174      0.000       0.126       0.317\n",
            "==============================================================================\n",
            "Omnibus:                        0.442   Durbin-Watson:                   2.812\n",
            "Prob(Omnibus):                  0.802   Jarque-Bera (JB):                0.406\n",
            "Skew:                           0.352   Prob(JB):                        0.816\n",
            "Kurtosis:                       2.438   Cond. No.                         8.25\n",
            "==============================================================================\n",
            "\n",
            "Warnings:\n",
            "[1] Standard Errors assume that the covariance matrix of the errors is correctly specified.\n",
            "The Beta is  const    0.011010\n",
            "NVDA     0.221562\n",
            "dtype: float64\n"
          ],
          "name": "stdout"
        },
        {
          "output_type": "stream",
          "text": [
            "/usr/local/lib/python3.6/dist-packages/numpy/core/fromnumeric.py:2389: FutureWarning: Method .ptp is deprecated and will be removed in a future version. Use numpy.ptp instead.\n",
            "  return ptp(axis=axis, out=out, **kwargs)\n",
            "/usr/local/lib/python3.6/dist-packages/scipy/stats/stats.py:1450: UserWarning: kurtosistest only valid for n>=20 ... continuing anyway, n=12\n",
            "  \"anyway, n=%i\" % int(n))\n"
          ],
          "name": "stderr"
        }
      ]
    },
    {
      "cell_type": "markdown",
      "metadata": {
        "id": "-kFC7FYZURHK",
        "colab_type": "text"
      },
      "source": [
        "### Using SciPy"
      ]
    },
    {
      "cell_type": "code",
      "metadata": {
        "id": "B6xv_lSPUTp8",
        "colab_type": "code",
        "colab": {
          "base_uri": "https://localhost:8080/",
          "height": 34
        },
        "outputId": "03e4b28b-df20-47ef-efd4-f7e55517fb19"
      },
      "source": [
        "## Now using the scipy \n",
        "\n",
        "x4 = np.array(month_return.NVDA).reshape(-1,1)\n",
        "y4 = np.array(month_return['^GSPC']).reshape(-1,1)\n",
        "\n",
        "\n",
        "model3 = LinearRegression()\n",
        "result3 = model3.fit(x4,y4)\n",
        "print('Coefficient or Beta or slope is',str(result3.coef_))"
      ],
      "execution_count": 21,
      "outputs": [
        {
          "output_type": "stream",
          "text": [
            "Coefficient or Beta or slope is [[0.22156246]]\n"
          ],
          "name": "stdout"
        }
      ]
    },
    {
      "cell_type": "markdown",
      "metadata": {
        "id": "stx8NN-TVME2",
        "colab_type": "text"
      },
      "source": [
        "## Inference of Beta\n",
        "Beta values :It is the risk in the market or gain in the market higher the risk more the value will user get\n",
        "<br>\n",
        "Risk Free Rate + Beta * Excess Market Return<br>\n",
        "It is senstivity/instivity related to index for eg S&P 500  in america or S&P BSE or Sensex ,Nifty in India<br><br>\n",
        "if beta=0 then there is no correlation between stock and index(eg Sensex)<br>\n",
        "if beta=1  then it increases or decreases in same amount with the market value<br>\n",
        "if beta>1 then the price will increase or decrease more prominently<br>\n",
        "if beta<1 then the prices will increase or decrease less prominently<br>\n",
        "if beta= -ve then there will be inverse relation \n"
      ]
    },
    {
      "cell_type": "markdown",
      "metadata": {
        "id": "BvIMnNIaVXSU",
        "colab_type": "text"
      },
      "source": [
        " In Nvidia we have a correlation of 0.22 but we can get higher values with big firms like microsoft, apple, facebook, google Here is one with Microsoft.  "
      ]
    },
    {
      "cell_type": "code",
      "metadata": {
        "id": "-0YlfhTeUc_1",
        "colab_type": "code",
        "colab": {
          "base_uri": "https://localhost:8080/",
          "height": 558
        },
        "outputId": "b5a38380-71ee-488e-ac55-3089b86a051d"
      },
      "source": [
        "start = datetime(2018 , 7 ,1)\n",
        "end = datetime(2019, 7 , 1)\n",
        "\n",
        "## Reading data and saving only Close Price in other data frame.\n",
        "data = pdr.DataReader(['MSFT','^GSPC'],'yahoo',start,end)\n",
        "db = data.Close\n",
        "\n",
        "today = db.index.max()\n",
        "past = today - timedelta(days=60)\n",
        "mon3 = db[past:today]\n",
        "\n",
        "\n",
        "## Calculating the Daily Returns\n",
        "return_daily = mon3.pct_change(1)\n",
        "return_daily.columns=['MSFT','^GSPC']\n",
        "return_daily.dropna(inplace=True)\n",
        "return_daily.head(5)\n",
        "\n",
        "x = return_daily['MSFT']\n",
        "y = return_daily['^GSPC']\n",
        "\n",
        "## Applying the Model\n",
        "x1 = sm.add_constant(x)\n",
        "\n",
        "\n",
        "## Regression Model\n",
        "model = sm.OLS(y,x1)\n",
        "\n",
        "results = model.fit()\n",
        "print(results.summary())\n",
        "print('Beta for our model is',results.params)\n",
        "\n"
      ],
      "execution_count": 33,
      "outputs": [
        {
          "output_type": "stream",
          "text": [
            "                            OLS Regression Results                            \n",
            "==============================================================================\n",
            "Dep. Variable:                  ^GSPC   R-squared:                       0.737\n",
            "Model:                            OLS   Adj. R-squared:                  0.730\n",
            "Method:                 Least Squares   F-statistic:                     109.1\n",
            "Date:                Thu, 22 Aug 2019   Prob (F-statistic):           7.33e-13\n",
            "Time:                        17:31:08   Log-Likelihood:                 165.18\n",
            "No. Observations:                  41   AIC:                            -326.4\n",
            "Df Residuals:                      39   BIC:                            -322.9\n",
            "Df Model:                           1                                         \n",
            "Covariance Type:            nonrobust                                         \n",
            "==============================================================================\n",
            "                 coef    std err          t      P>|t|      [0.025      0.975]\n",
            "------------------------------------------------------------------------------\n",
            "const         -0.0005      0.001     -0.739      0.464      -0.002       0.001\n",
            "MSFT           0.5013      0.048     10.446      0.000       0.404       0.598\n",
            "==============================================================================\n",
            "Omnibus:                        5.852   Durbin-Watson:                   1.887\n",
            "Prob(Omnibus):                  0.054   Jarque-Bera (JB):                4.540\n",
            "Skew:                           0.662   Prob(JB):                        0.103\n",
            "Kurtosis:                       3.951   Cond. No.                         69.6\n",
            "==============================================================================\n",
            "\n",
            "Warnings:\n",
            "[1] Standard Errors assume that the covariance matrix of the errors is correctly specified.\n",
            "Beta for our model is const   -0.000514\n",
            "MSFT     0.501308\n",
            "dtype: float64\n"
          ],
          "name": "stdout"
        },
        {
          "output_type": "stream",
          "text": [
            "/usr/local/lib/python3.6/dist-packages/numpy/core/fromnumeric.py:2389: FutureWarning: Method .ptp is deprecated and will be removed in a future version. Use numpy.ptp instead.\n",
            "  return ptp(axis=axis, out=out, **kwargs)\n"
          ],
          "name": "stderr"
        }
      ]
    },
    {
      "cell_type": "code",
      "metadata": {
        "id": "P_7yN9xVWIFc",
        "colab_type": "code",
        "colab": {}
      },
      "source": [
        ""
      ],
      "execution_count": 0,
      "outputs": []
    }
  ]
}